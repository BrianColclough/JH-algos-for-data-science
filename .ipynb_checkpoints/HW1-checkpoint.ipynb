{
 "cells": [
  {
   "cell_type": "markdown",
   "metadata": {},
   "source": [
    "<h1 align=\"center\"><b>Homework Assignment 1 (100 points total)</b></h1>\n",
    "<h3 align=\"center\"><b>Assigned at the start of Module 1</b></h3>\n",
    "<h3 align=\"center\"><b>Due at the end of Module 2</b></h3><br>\n"
   ]
  },
  {
   "cell_type": "markdown",
   "metadata": {},
   "source": [
    "# Q1: Algorithm Analysis\n",
    "\n",
    "## Background on Algorithm Analysis (50 points total)\n",
    "\n",
    "- Constant Time (O(1)): Regardless of the input size, the algorithm takes a constant amount of time to complete.\n",
    "    - Accessing an element in an array by index.\n",
    "    - Inserting or deleting an element at the beginning of a linked list.\n",
    "\n",
    "\n",
    "- Linear Time (O(n)): The runtime grows linearly with the size of the input.\n",
    "    - Iterating through a list or array once.\n",
    "    - Searching for an element in an unsorted list by traversing it.\n",
    "\n",
    "\n",
    "- Logarithmic Time (O(log n)): As the input size grows, the runtime increases logarithmically.\n",
    "    - Binary search in a sorted array.\n",
    "    - Operations in a balanced binary search tree (BST).\n",
    "    \n",
    "\n",
    "- Quadratic Time (O(n^2)): The runtime grows quadratically with the input size.\n",
    "    - Nested loops where each loop iterates through the input.\n",
    "    - Some sorting algorithms like Bubble Sort or Selection Sort.\n",
    "\n",
    "\n",
    "- Exponential Time (O(2^n)): The runtime doubles with each addition to the input size.\n",
    "    - Algorithms involving recursive solutions that make repeated calls.\n",
    "    - Solving the Traveling Salesman Problem using brute force.\n",
    "    \n",
    "\n",
    "- Factorial Time (O(n!)): The runtime grows factorially with the input size.\n",
    "    - Permutation problems that explore all possible combinations, like the brute force solution for the Traveling Salesman Problem with no optimizations."
   ]
  },
  {
   "cell_type": "markdown",
   "metadata": {},
   "source": [
    "## Bubble Sort (Example)\n",
    "\n",
    "Use the below analysis and explanation as a template for answering the following questions on algorithm analysis. You are to analyze each algorithm line by line, calculate the runtime complexity, and provide an explanation in markdown."
   ]
  },
  {
   "cell_type": "code",
   "execution_count": 2,
   "metadata": {},
   "outputs": [],
   "source": [
    "def bubble_sort(arr):\n",
    "    n = len(arr)\n",
    "    for i in range(n):  # O(n)\n",
    "        for j in range(0, n-i-1):  # O(n)\n",
    "            if arr[j] > arr[j+1]:  # O(1)\n",
    "                arr[j], arr[j+1] = arr[j+1], arr[j]  # O(1)\n",
    "\n",
    "# Total Runtime Complexity:\n",
    "# Big O notation: O(n^2)\n",
    "# Big Omega notation: Ω(n)\n",
    "# Big Theta notation: Θ(n^2)\n"
   ]
  },
  {
   "cell_type": "markdown",
   "metadata": {},
   "source": [
    "Explanation:\n",
    "\n",
    "- The outer loop iterates 'n' times, where 'n' is the length of the array.\n",
    "- The inner loop also iterates 'n' times in the worst case.\n",
    "- The comparisons and swapping operations inside the inner loop are constant time ('O(1)').\n",
    "\n",
    "This results in a total runtime complexity of O(n^2) in the worst case, Ω(n) in the best case (already sorted), and Θ(n^2) in the average and worst cases, as both loops iterate over the input array."
   ]
  },
  {
   "cell_type": "markdown",
   "metadata": {},
   "source": [
    "## 1A Merge Sort (10 points)"
   ]
  },
  {
   "cell_type": "code",
   "execution_count": 3,
   "metadata": {},
   "outputs": [],
   "source": [
    "def merge_sort(arr):\n",
    "    if len(arr) > 1:  \n",
    "        mid = len(arr) // 2 # O(1) \n",
    "        left_half = arr[:mid] # O(n) \n",
    "        right_half = arr[mid:] # O(n)   \n",
    "\n",
    "        merge_sort(left_half) # T(n/2) \n",
    "        merge_sort(right_half) # T(n/2)  \n",
    "\n",
    "        i = j = k = 0   # O(1) \n",
    "\n",
    "        while i < len(left_half) and j < len(right_half):  # O(n) \n",
    "            if left_half[i] < right_half[j]:  # O(1)   \n",
    "                arr[k] = left_half[i] # O(1)    \n",
    "                i += 1 # O(1)   \n",
    "            else:\n",
    "                arr[k] = right_half[j]  # O(1)   \n",
    "                j += 1 # O(1)   \n",
    "            k += 1 # O(1)   \n",
    "\n",
    "        while i < len(left_half): # O(n)   \n",
    "            arr[k] = left_half[i]  # O(1)   \n",
    "            i += 1 # O(1)   \n",
    "            k += 1 # O(1)   \n",
    "\n",
    "        while j < len(right_half): # O(n)   \n",
    "            arr[k] = right_half[j]  # O(1)   \n",
    "            j += 1 # O(1)   \n",
    "            k += 1 # O(1)   \n",
    "\n",
    "# Total Runtime Complexity:\n",
    "# Big O notation: O(n log n)\n",
    "# Big Omega notation: Ω(n log n)\n",
    "# Big Theta notation: Θ(n log n)\n"
   ]
  },
  {
   "cell_type": "markdown",
   "metadata": {},
   "source": [
    "Explanation:\n",
    "Becuase merge sort splits the input array in half recursively we get O(log n), and since at each level of recursion we have the while loops going through the array, that is O(n). Putting this together we get a runtine of O(n log n). This is the same for all the different notations because no matter if you pass a sorted or reverse sorted array merge sort will run through every enty in the array the same way.\n"
   ]
  },
  {
   "cell_type": "markdown",
   "metadata": {},
   "source": [
    "## 1B Binary Search (10 points)"
   ]
  },
  {
   "cell_type": "code",
   "execution_count": 4,
   "metadata": {},
   "outputs": [],
   "source": [
    "def binary_search(arr, target):\n",
    "    low = 0 # O(1)   \n",
    "    high = len(arr) - 1 # O(1)   \n",
    "\n",
    "    while low <= high: # O(log n) \n",
    "        mid = (low + high) // 2 # O(1) \n",
    "        mid_val = arr[mid] # O(1)   \n",
    "\n",
    "        if mid_val == target: # O(1)   \n",
    "            return mid # O(1)   \n",
    "        elif mid_val < target: # O(1)   \n",
    "            low = mid + 1 # O(1)   \n",
    "        else:\n",
    "            high = mid - 1 # O(1)   \n",
    "\n",
    "    return -1 # O(1)   \n",
    "\n",
    "# Total Runtime Complexity:\n",
    "# Big O notation: O(log n)\n",
    "# Big Omega notation: Ω(1)\n",
    "# Big Theta notation: Θ(log n)"
   ]
  },
  {
   "cell_type": "markdown",
   "metadata": {},
   "source": [
    "Explanation:\n"
   ]
  },
  {
   "cell_type": "markdown",
   "metadata": {},
   "source": [
    "- Each iteration of the loop eliminates half of the values that are being searched, so the loop is O(log n) time for worst and average case\n",
    "- For the best case its possible the first mid value is what we are looking for in which case the runtime is O(1)\n",
    "- operatiosn inside and outside the loop are O(1)\n",
    "\n",
    "When we are looping through our sorted array if the first value we get for mid is the target value then the running time is O(1). Otherwise we expect a couple of iterations in the loop which will result in O(log n) running time for average and worst case."
   ]
  },
  {
   "cell_type": "markdown",
   "metadata": {},
   "source": [
    "## 1C Linear Search (10 points)"
   ]
  },
  {
   "cell_type": "code",
   "execution_count": 5,
   "metadata": {},
   "outputs": [],
   "source": [
    "def linear_search(arr, target):\n",
    "    for i in range(len(arr)): # O(n) \n",
    "        if arr[i] == target: # O(1)   \n",
    "            return i # O(1)   \n",
    "    return -1 # O(1)   \n",
    "\n",
    "# Total Runtime Complexity:\n",
    "# Big O notation: O(n)\n",
    "# Big Omega notation: Ω(1)\n",
    "# Big Theta notation: Θ(n)"
   ]
  },
  {
   "cell_type": "markdown",
   "metadata": {},
   "source": [
    "Explanation:\n",
    "\n",
    "- The for loop iterates through each element in the array once, so the loop is O(n) time for worst and average case\n",
    "- For the best case it's possible the first element is what we are looking for in which case the runtime is O(1)\n",
    "- Operations inside the loop (comparison and return) are O(1)\n",
    "\n",
    "When we are looping through our array if the first value we check is the target value then the running time is O(1). Otherwise we expect to check multiple elements in the array which will result in O(n) running time for average and worst case.\n"
   ]
  },
  {
   "cell_type": "markdown",
   "metadata": {},
   "source": [
    "## 1D Selection Sort (10 points)"
   ]
  },
  {
   "cell_type": "code",
   "execution_count": 6,
   "metadata": {},
   "outputs": [],
   "source": [
    "def selection_sort(arr):\n",
    "    n = len(arr) # O(1)\n",
    "    for i in range(n - 1): # O(n)\n",
    "        min_index = i # O(1)\n",
    "        for j in range(i + 1, n): # O(n)\n",
    "            if arr[j] < arr[min_index]: # O(1)\n",
    "                min_index = j # O(1)\n",
    "        arr[i], arr[min_index] = arr[min_index], arr[i] # O(1)\n",
    "\n",
    "# Total Runtime Complexity:\n",
    "# Big O notation: O(n^2)\n",
    "# Big Omega notation: Ω(n^2)\n",
    "# Big Theta notation: Θ(n^2)"
   ]
  },
  {
   "cell_type": "markdown",
   "metadata": {},
   "source": [
    "Explanation:\n",
    "\n",
    "- The outer loop iterates through n-1 elements, so it's O(n) time\n",
    "- The inner loop starts from i+1 and goes to n, so it's O(n) time in the worst case\n",
    "- Operations inside both loops (comparisons and assignments) are O(1)\n",
    "\n",
    "When we are running selection sort, we always need to find the minimum element in the remaining unsorted portion of the array. This requires checking every remaining element regardless of whether the array is already sorted or not. The outer loop runs n times, and for each iteration, the inner loop runs an average of n/2 times, which results in O(n^2) running time for all cases.\n"
   ]
  },
  {
   "cell_type": "markdown",
   "metadata": {},
   "source": [
    "# 1E Heap Sort (10 points)"
   ]
  },
  {
   "cell_type": "code",
   "execution_count": 7,
   "metadata": {},
   "outputs": [],
   "source": [
    "def heapify(arr, n, i):\n",
    "    largest = i                      \n",
    "    left = 2 * i + 1                 \n",
    "    right = 2 * i + 2             \n",
    "\n",
    "    if left < n and arr[left] > arr[largest]: # O(1)\n",
    "        largest = left # O(1)\n",
    "\n",
    "    if right < n and arr[right] > arr[largest]: # O(1)\n",
    "        largest = right # O(1)\n",
    "\n",
    "    if largest != i: # O(1)\n",
    "        arr[i], arr[largest] = arr[largest], arr[i] # O(1)\n",
    "        heapify(arr, n, largest) # O(log n)\n",
    "\n",
    "\n",
    "def heap_sort(arr):\n",
    "    n = len(arr) # O(1)\n",
    "\n",
    "    for i in range(n // 2 - 1, -1, -1): # O(n)\n",
    "        heapify(arr, n, i) # O(1)\n",
    "\n",
    "    for i in range(n - 1, 0, -1): # O(n)\n",
    "        arr[i], arr[0] = arr[0], arr[i] # O(1)\n",
    "        heapify(arr, i, 0) # O(1)\n",
    "\n",
    "# Total Runtime Complexity:\n",
    "# Big O notation: O(n log n)\n",
    "# Big Omega notation: Ω(n log n)\n",
    "# Big Theta notation: Θ(n log n)\n"
   ]
  },
  {
   "cell_type": "markdown",
   "metadata": {},
   "source": [
    "Explanation:\n",
    "\n",
    "Building the max-heap\n",
    "\n",
    "- The loop for i in range(n//2−1,−1,−1) runs about n/2 times → O(n) calls to heapify\n",
    "- Each heapify call may travel down the height of the tree (O(log n)) → O(n log n) Extracting elements\n",
    "\n",
    "The loop for i in range(n−1,0,−1) runs n−1 times → O(n)\n",
    "\n",
    "Each iteration does:\n",
    "- A constant-time swap of root and arr[i] → O(1)\n",
    "- A heapify(arr, i, 0) on a heap of size i → O(log n)\n",
    "\n",
    "heapify function\n",
    "Performs a few constant-time comparisons and assignments → O(1)\n",
    "On a swap, recurses down one branch of the heap → worst-case O(log n)\n"
   ]
  },
  {
   "cell_type": "markdown",
   "metadata": {},
   "source": [
    "# Q2: Algorithm Design & Analysis (20 points)\n",
    "\n",
    "For this question, we will take the above process one step further. We are going to provide you with a common algorithm, and you are to complete the following:\n",
    "\n",
    "- Construct pseudocode for the algorithm.\n",
    "- Analyze your pseudocode line by line.\n",
    "- Provide the runtime complexity for the algorithm.\n",
    "- Provide an explanation justifying your analysis of the algorithm. \n",
    "\n",
    "You may select from the following:\n",
    "\n",
    "### 1. Euclidean Algorithm\n",
    "- **Category**: Number theory  \n",
    "- **Purpose**: Finds the greatest common divisor (GCD) of two numbers using repeated division.  \n",
    "\n",
    "### 2. Fibonacci Sequence (Iterative or Recursive)\n",
    "- **Category**: Sequence generation  \n",
    "- **Purpose**: Generates the Fibonacci sequence, where each number is the sum of the two preceding ones.  \n",
    "\n",
    "### 3. Prime Number Checking (Trial Division)\n",
    "- **Category**: Number theory  \n",
    "- **Purpose**: Determines whether a number is prime by checking divisibility up to its square root.  \n",
    "\n"
   ]
  },
  {
   "cell_type": "markdown",
   "metadata": {},
   "source": [
    "# Im going to do Prime Number Checking with Trial Division\n",
    "\n",
    "Using this algo we need to check weather a number n is divisble by any prime number that is less than sqrt(n). Since every number except 1 is divisible by at least one prime number we only need to check if our number n is divible by the primes less than sqrt(n)\n",
    "\n",
    "## Psudo code\n",
    "\n",
    "```python\n",
    "def prime_check(n):\n",
    "    if n <= 1: # O(1) - 0 and 1 are both non-prime\n",
    "        return False # O(1) \n",
    "    elif n <= 3: # O(1) - 2 and 3 are both prime so we can quick return them\n",
    "        return True # O(1)\n",
    "    else:\n",
    "        primes = get_primes_up_to(math.floor(sqrt(n))) # O(squr(n) log log n) - Gets the prime numbers up to our limit of \"n\"\n",
    "\n",
    "        for prime in primes: # O(n) - Loops through our prime numbers we received\n",
    "            if n % prime == 0: # O(1) - checks remainder of our number divided by the current prime number\n",
    "                return False # O(1)\n",
    "    \n",
    "        return True # O(1)\n",
    "```\n",
    "\n",
    "Sieve of Eratosthenes - as known algorithm with *O(n log log n)* time complexity\n",
    "\n",
    "```python\n",
    "def get_primes_up_to(limit): \n",
    "    is_prime = [True] * (limit+1) # O(limit) - Creates a boolean array of for 0 to limit\n",
    "    is_prime[0] = is_prime[1] = False # 0(1) - 0 and 1 are not primes\n",
    "    for p in range(2, floor(sqrt(limit))+1): # O(sqrt(limit)) - we only need to check primes up to the square root of our limit\n",
    "        if is_prime[p]: # 0(1) only check multiples of numbers that are prime\n",
    "            \"\"\"\n",
    "            O(limit log log limit)\n",
    "            loop through multiples of prime numbers starting at p^2 since we have calculated the previous multiples at lower primes. For example, if p=5, the multiples 10 (2×5) and 15 (3×5) were already marked when we processed p=2 and p=3.\n",
    "            \"\"\"\n",
    "            for multiple in range(p*p, limit+1, p): \n",
    "                is_prime[multiple] = False # O(1) - mark as not prime\n",
    "    return [i for i, flag in enumerate(is_prime) if flag] # O(n)  \n",
    "```\n",
    "\n",
    "Total Runtime Complexity:\n",
    "- Big O notation: O(sqrt(n)log log n)\n",
    "- Big Omega notation: Ω(1)\n",
    "- Big Theta notation: Θ(sqrt(n) log log n)"
   ]
  },
  {
   "cell_type": "markdown",
   "metadata": {},
   "source": [
    "# Justification\n",
    "\n",
    "1. **Base-case checks are constant time**\n",
    "\n",
    "   * `if n ≤ 1`, `elif n ≤ 3` and their `return`s each take **O(1)**, so they contribute only a constant overhead.\n",
    "\n",
    "2. **Computing the limit is constant**\n",
    "\n",
    "   * `limit = floor(sqrt(n))` is a single arithmetic operation → **O(1)**.\n",
    "\n",
    "3. **Sieve of Eratosthenes to get primes ≤√n**\n",
    "\n",
    "   * **Array initialization:** O(limit) = O(sqrt(n))\n",
    "   * **Outer loop (p from 2 to sqrt(limit)):** O(sqrt(limit)) work to decide which p’s to sieve\n",
    "   * **Inner marking loop:** total work ≈ summation of -> (limit/p) = O(limit log log limit) = O(sqrt(n) · log log sqrt(n)) = O(sqrt(n) log log n)\n",
    "   * **Collect primes:** O(limit) = O(sqrt(n))\n",
    "   * **Overall sieve cost:** dominated by the marking step → **O(√n log log n)**\n",
    "\n",
    "4. **Division loop over the primes**\n",
    "\n",
    "   * You iterate over primes o(n)\n",
    "   * Each iteration does a modulus check and a conditional return → **O(1)** each\n",
    "   * **Total:** O(√n/ log n), which grows more slowly than O(sqrt(n) log log n), so it does *not* dominate."
   ]
  },
  {
   "cell_type": "markdown",
   "metadata": {},
   "source": [
    "# Q3: Probabilities and Distributions (30 points total)"
   ]
  },
  {
   "cell_type": "markdown",
   "metadata": {},
   "source": [
    " Objective: Demonstrate understanding of probability distributions, moments, and their data science applications.\n",
    "\n",
    "## 3A Dataset Identification (10 points)\n",
    "\n",
    " Find a publicly available dataset that exhibits characteristics of a particular probability distribution (e.g., Poisson, Normal, Exponential).\n",
    "\n",
    " Over the course of this question you will help prove that this dataset aligns with that chosen distribution."
   ]
  },
  {
   "cell_type": "code",
   "execution_count": 8,
   "metadata": {},
   "outputs": [],
   "source": [
    "# Import Python Modules\n",
    "import pandas as pd\n",
    "import seaborn as sns\n",
    "from scipy import stats\n",
    "import numpy as np\n",
    "import matplotlib.pyplot as plt\n",
    "\n",
    "# Import dataset\n",
    "geyser_empirical_data = sns.load_dataset(\"geyser\")"
   ]
  },
  {
   "cell_type": "markdown",
   "metadata": {},
   "source": [
    "Describe your dataset:\n",
    "I chose the Geyser dataset provided with seaborn. This data set has data on the Old Faithful Geyser and includes \"waiting\" and \"duration\" as its features. Waiting is the time in minutes from the end of the previous eruption, and duration is the length in minutes of the current eruption.\n",
    "\n",
    "I'm going to compare waiting times to an exponential dataset since, for events occurring independently at a constant average rate, the time-between-events follows an Exponential law. Also I'm going to examine if the durations fit a normal distribution.\n"
   ]
  },
  {
   "cell_type": "markdown",
   "metadata": {},
   "source": [
    "## 3B Compute the first four moments for each feature (column). (10 points)\n",
    "Select a minimum of two features for your response."
   ]
  },
  {
   "cell_type": "code",
   "execution_count": 9,
   "metadata": {},
   "outputs": [
    {
     "name": "stdout",
     "output_type": "stream",
     "text": [
      "----------------------------------------------------------------------------------------------------\n",
      "Geyser Dataset\n",
      "----------------------------------------------------------------------------------------------------\n",
      "waiting\n",
      "Standard Deviation: 13.594973789999397\n",
      "Variance: 184.82331235077058\n",
      "Skewness: -0.41863094909479137\n",
      "Kurtosis: -1.141528803160176\n",
      "----------------------------------------------------------------------------------------------------\n",
      "duration\n",
      "Standard Deviation: 1.1413712511052083\n",
      "Variance: 1.3027283328494683\n",
      "Skewness: -0.4181504713408306\n",
      "Kurtosis: -1.5061670982138073\n",
      "----------------------------------------------------------------------------------------------------\n"
     ]
    },
    {
     "data": {
      "text/plain": [
       "<Axes: xlabel='waiting', ylabel='duration'>"
      ]
     },
     "execution_count": 9,
     "metadata": {},
     "output_type": "execute_result"
    },
    {
     "data": {
      "image/png": "[encoded data removed]",
      "text/plain": [
       "<Figure size 640x480 with 1 Axes>"
      ]
     },
     "metadata": {},
     "output_type": "display_data"
    }
   ],
   "source": [
    "# Perform computation here.\n",
    "\n",
    "print(\"-\"*100)\n",
    "print(\"Geyser Dataset\")\n",
    "print(\"-\"*100)\n",
    "\n",
    "columns = [\"waiting\", \"duration\"]\n",
    "\n",
    "for feature in columns:\n",
    "    print(feature)\n",
    "    std = geyser_empirical_data[feature].std()\n",
    "    var = geyser_empirical_data[feature].var()\n",
    "    skewness = geyser_empirical_data[feature].skew()\n",
    "    kurtosis = geyser_empirical_data[feature].kurt()\n",
    "    print(f\"Standard Deviation: {std}\")\n",
    "    print(f\"Variance: {var}\")\n",
    "    print(f\"Skewness: {skewness}\")\n",
    "    print(f\"Kurtosis: {kurtosis}\")\n",
    "    print(\"-\"*100)\n",
    "\n",
    "sns.barplot(x=\"waiting\", y=\"duration\", data=geyser_empirical_data, width=.7, palette=\"pastel\", hue=\"waiting\", native_scale=True)"
   ]
  },
  {
   "cell_type": "code",
   "execution_count": 10,
   "metadata": {},
   "outputs": [
    {
     "data": {
      "text/html": [
       "<div>\n",
       "<style scoped>\n",
       "    .dataframe tbody tr th:only-of-type {\n",
       "        vertical-align: middle;\n",
       "    }\n",
       "\n",
       "    .dataframe tbody tr th {\n",
       "        vertical-align: top;\n",
       "    }\n",
       "\n",
       "    .dataframe thead th {\n",
       "        text-align: right;\n",
       "    }\n",
       "</style>\n",
       "<table border=\"1\" class=\"dataframe\">\n",
       "  <thead>\n",
       "    <tr style=\"text-align: right;\">\n",
       "      <th></th>\n",
       "      <th>mean</th>\n",
       "      <th>variance</th>\n",
       "      <th>std-dev</th>\n",
       "      <th>skewness</th>\n",
       "      <th>excess K</th>\n",
       "    </tr>\n",
       "    <tr>\n",
       "      <th>feature</th>\n",
       "      <th></th>\n",
       "      <th></th>\n",
       "      <th></th>\n",
       "      <th></th>\n",
       "      <th></th>\n",
       "    </tr>\n",
       "  </thead>\n",
       "  <tbody>\n",
       "    <tr>\n",
       "      <th>waiting</th>\n",
       "      <td>70.897059</td>\n",
       "      <td>184.143815</td>\n",
       "      <td>13.569960</td>\n",
       "      <td>-0.416319</td>\n",
       "      <td>-1.142631</td>\n",
       "    </tr>\n",
       "    <tr>\n",
       "      <th>duration</th>\n",
       "      <td>3.487783</td>\n",
       "      <td>1.297939</td>\n",
       "      <td>1.139271</td>\n",
       "      <td>-0.415841</td>\n",
       "      <td>-1.500600</td>\n",
       "    </tr>\n",
       "  </tbody>\n",
       "</table>\n",
       "</div>"
      ],
      "text/plain": [
       "               mean    variance    std-dev  skewness  excess K\n",
       "feature                                                       \n",
       "waiting   70.897059  184.143815  13.569960 -0.416319 -1.142631\n",
       "duration   3.487783    1.297939   1.139271 -0.415841 -1.500600"
      ]
     },
     "execution_count": 10,
     "metadata": {},
     "output_type": "execute_result"
    }
   ],
   "source": [
    "moments = []\n",
    "\n",
    "for col in [\"waiting\", \"duration\"]:\n",
    "    exponential_fit = geyser_empirical_data[col]\n",
    "    moments.append({\n",
    "        \"feature\"   : col,\n",
    "        \"mean\"      : exponential_fit.mean(),\n",
    "        \"variance\"  : exponential_fit.var(ddof=0),\n",
    "        \"std-dev\"   : exponential_fit.std(ddof=0),\n",
    "        \"skewness\"  : stats.skew(exponential_fit),\n",
    "        \"excess K\"  : stats.kurtosis(exponential_fit, fisher=True)\n",
    "    })\n",
    "\n",
    "geyser_df = pd.DataFrame(moments).set_index(\"feature\")\n",
    "geyser_df"
   ]
  },
  {
   "cell_type": "code",
   "execution_count": 11,
   "metadata": {},
   "outputs": [
    {
     "data": {
      "text/html": [
       "<div>\n",
       "<style scoped>\n",
       "    .dataframe tbody tr th:only-of-type {\n",
       "        vertical-align: middle;\n",
       "    }\n",
       "\n",
       "    .dataframe tbody tr th {\n",
       "        vertical-align: top;\n",
       "    }\n",
       "\n",
       "    .dataframe thead th {\n",
       "        text-align: right;\n",
       "    }\n",
       "</style>\n",
       "<table border=\"1\" class=\"dataframe\">\n",
       "  <thead>\n",
       "    <tr style=\"text-align: right;\">\n",
       "      <th></th>\n",
       "      <th>mean</th>\n",
       "      <th>variance</th>\n",
       "      <th>std-dev</th>\n",
       "      <th>skewness</th>\n",
       "      <th>excess K</th>\n",
       "    </tr>\n",
       "  </thead>\n",
       "  <tbody>\n",
       "    <tr>\n",
       "      <th>waiting (Exp)</th>\n",
       "      <td>70.897059</td>\n",
       "      <td>5026.392950</td>\n",
       "      <td>70.897059</td>\n",
       "      <td>2</td>\n",
       "      <td>6</td>\n",
       "    </tr>\n",
       "    <tr>\n",
       "      <th>duration (Norm)</th>\n",
       "      <td>3.487783</td>\n",
       "      <td>1.297939</td>\n",
       "      <td>1.139271</td>\n",
       "      <td>0</td>\n",
       "      <td>0</td>\n",
       "    </tr>\n",
       "  </tbody>\n",
       "</table>\n",
       "</div>"
      ],
      "text/plain": [
       "                      mean     variance    std-dev  skewness  excess K\n",
       "waiting (Exp)    70.897059  5026.392950  70.897059         2         6\n",
       "duration (Norm)   3.487783     1.297939   1.139271         0         0"
      ]
     },
     "execution_count": 11,
     "metadata": {},
     "output_type": "execute_result"
    }
   ],
   "source": [
    "mean_wait    = geyser_empirical_data[\"waiting\"].mean()\n",
    "mean_dur     = geyser_empirical_data[\"duration\"].mean()\n",
    "var_dur      = geyser_empirical_data[\"duration\"].var(ddof=0)\n",
    "\n",
    "# Theoretical for waiting (Exponential)\n",
    "lam_hat = 1 / mean_wait\n",
    "theo_wait = {\n",
    "    \"mean\":      1/lam_hat,\n",
    "    \"variance\":  1/lam_hat**2,\n",
    "    \"std-dev\":   1/lam_hat,\n",
    "    \"skewness\":  2, # skewness for exponential distribution is 2\n",
    "    \"excess K\":  6 # exess kurtosis for exponential distribution is 6\n",
    "}\n",
    "\n",
    "# Theoretical for duration (Normal)\n",
    "theo_dur = {\n",
    "    \"mean\":      mean_dur,\n",
    "    \"variance\":  var_dur,\n",
    "    \"std-dev\":   np.sqrt(var_dur),\n",
    "    \"skewness\":  0, # skewness for normal distribution is 0\n",
    "    \"excess K\":  0 # exess kurtosis for normal distribution is 0\n",
    "}\n",
    "\n",
    "# Combine data into a table\n",
    "theoretical_df = pd.DataFrame([theo_wait, theo_dur],\n",
    "                    index=[\"waiting (Exp)\", \"duration (Norm)\"])\n",
    "theoretical_df"
   ]
  },
  {
   "cell_type": "markdown",
   "metadata": {},
   "source": [
    "Here im going to combine our theoretical data and our actually data so it will be easier to compare the values"
   ]
  },
  {
   "cell_type": "code",
   "execution_count": 12,
   "metadata": {},
   "outputs": [
    {
     "data": {
      "text/html": [
       "<div>\n",
       "<style scoped>\n",
       "    .dataframe tbody tr th:only-of-type {\n",
       "        vertical-align: middle;\n",
       "    }\n",
       "\n",
       "    .dataframe tbody tr th {\n",
       "        vertical-align: top;\n",
       "    }\n",
       "\n",
       "    .dataframe thead th {\n",
       "        text-align: right;\n",
       "    }\n",
       "</style>\n",
       "<table border=\"1\" class=\"dataframe\">\n",
       "  <thead>\n",
       "    <tr style=\"text-align: right;\">\n",
       "      <th></th>\n",
       "      <th>mean</th>\n",
       "      <th>variance</th>\n",
       "      <th>std-dev</th>\n",
       "      <th>skewness</th>\n",
       "      <th>excess K</th>\n",
       "    </tr>\n",
       "  </thead>\n",
       "  <tbody>\n",
       "    <tr>\n",
       "      <th>waiting</th>\n",
       "      <td>70.897059</td>\n",
       "      <td>184.143815</td>\n",
       "      <td>13.569960</td>\n",
       "      <td>-0.416319</td>\n",
       "      <td>-1.142631</td>\n",
       "    </tr>\n",
       "    <tr>\n",
       "      <th>duration</th>\n",
       "      <td>3.487783</td>\n",
       "      <td>1.297939</td>\n",
       "      <td>1.139271</td>\n",
       "      <td>-0.415841</td>\n",
       "      <td>-1.500600</td>\n",
       "    </tr>\n",
       "    <tr>\n",
       "      <th>waiting (Exp)</th>\n",
       "      <td>70.897059</td>\n",
       "      <td>5026.392950</td>\n",
       "      <td>70.897059</td>\n",
       "      <td>2.000000</td>\n",
       "      <td>6.000000</td>\n",
       "    </tr>\n",
       "    <tr>\n",
       "      <th>duration (Norm)</th>\n",
       "      <td>3.487783</td>\n",
       "      <td>1.297939</td>\n",
       "      <td>1.139271</td>\n",
       "      <td>0.000000</td>\n",
       "      <td>0.000000</td>\n",
       "    </tr>\n",
       "  </tbody>\n",
       "</table>\n",
       "</div>"
      ],
      "text/plain": [
       "                      mean     variance    std-dev  skewness  excess K\n",
       "waiting          70.897059   184.143815  13.569960 -0.416319 -1.142631\n",
       "duration          3.487783     1.297939   1.139271 -0.415841 -1.500600\n",
       "waiting (Exp)    70.897059  5026.392950  70.897059  2.000000  6.000000\n",
       "duration (Norm)   3.487783     1.297939   1.139271  0.000000  0.000000"
      ]
     },
     "execution_count": 12,
     "metadata": {},
     "output_type": "execute_result"
    }
   ],
   "source": [
    "# Combine empirical and theoretical dataframes\n",
    "combined = pd.concat([geyser_df, theoretical_df])\n",
    "combined"
   ]
  },
  {
   "cell_type": "markdown",
   "metadata": {},
   "source": [
    "## Data Comparison Chart"
   ]
  },
  {
   "cell_type": "code",
   "execution_count": 13,
   "metadata": {},
   "outputs": [
    {
     "data": {
      "image/png": "[encoded data removed]",
      "text/plain": [
       "<Figure size 640x480 with 1 Axes>"
      ]
     },
     "metadata": {},
     "output_type": "display_data"
    },
    {
     "data": {
      "image/png": "[encoded data removed]",
      "text/plain": [
       "<Figure size 640x480 with 1 Axes>"
      ]
     },
     "metadata": {},
     "output_type": "display_data"
    }
   ],
   "source": [
    "# Waiting times → Exponential fit\n",
    "waiting = geyser_empirical_data[\"waiting\"]\n",
    "lam_hat = 1 / waiting.mean()\n",
    "\n",
    "plt.figure()\n",
    "plt.hist(waiting, bins=30, density=True, alpha=0.6)\n",
    "exponential_fit = np.linspace(waiting.min(), waiting.max(), 200)\n",
    "plt.plot(exponential_fit, stats.expon(scale=1/lam_hat).pdf(exponential_fit), linewidth=2)\n",
    "plt.title(\"Waiting Times: Empirical vs. Exponential\")\n",
    "plt.xlabel(\"Waiting Time (min)\")\n",
    "plt.ylabel(\"Density\")\n",
    "plt.show()\n",
    "\n",
    "# Eruption durations → Normal fit\n",
    "duration = geyser_empirical_data[\"duration\"]\n",
    "duration_mean, duration_sd = duration.mean(), duration.std(ddof=0)\n",
    "\n",
    "plt.figure()\n",
    "plt.hist(duration, bins=30, density=True, alpha=0.6)\n",
    "normal_fit = np.linspace(duration.min(), duration.max(), 200)\n",
    "plt.plot(normal_fit, stats.norm(loc=duration_mean, scale=duration_sd).pdf(normal_fit), linewidth=2)\n",
    "plt.title(\"Eruption Durations: Empirical vs. Normal\")\n",
    "plt.xlabel(\"Duration (min)\")\n",
    "plt.ylabel(\"Density\")\n",
    "plt.show()"
   ]
  },
  {
   "cell_type": "markdown",
   "metadata": {},
   "source": [
    "## 3C Interpret these moments in the context of the dataset and compare them to the theoretical values of the selected distribution. (10 points)\n",
    "\n",
    "At a minimum you should perform the following:\n",
    "- Compute the theoretical values of the first four moments.\n",
    "- Plot the data and fit the chosen distribution visually (using histograms, bar charts, etc.)\n",
    "- Provide a written analysis of the differences between the theoretical and calculated values."
   ]
  },
  {
   "cell_type": "markdown",
   "metadata": {},
   "source": [
    "## Moment Comparison\n",
    "For waiting, empirical variance (184.1) is much smaller than the theoretical (5026.6), empirical skew (–0.42) is the opposite sign of the exponential’s +2, and empirical excess K (–1.14) strongly diverges from +6. This confirms that a single memory-less process is a poor fit—Old Faithful’s waiting times are bimodal, not exponentially tailed.\n",
    "\n",
    "For duration, the normal baseline lines up on mean & variance by construction, but empirical skew (–0.42) and excess K (–1.50) show a mild left‐hand tail and flatter peak—not perfectly Gaussian but much closer to normal than exponential.\n",
    "\n",
    "The empirical vs. theoretical moment table shows that waiting times deviate drastically from the exponential baseline, negative skew instead of +2, and negative excess kurtosis instead of +6. Eruption durations align on mean & variance by construction, but exhibit slight negative skew and light tails vs. a perfect normal (skew=0, K=0). "
   ]
  }
 ],
 "metadata": {
  "kernelspec": {
   "display_name": "en-685-621",
   "language": "python",
   "name": "python3"
  },
  "language_info": {
   "codemirror_mode": {
    "name": "ipython",
    "version": 3
   },
   "file_extension": ".py",
   "mimetype": "text/x-python",
   "name": "python",
   "nbconvert_exporter": "python",
   "pygments_lexer": "ipython3",
   "version": "3.9.22"
  },
  "orig_nbformat": 4
 },
 "nbformat": 4,
 "nbformat_minor": 2
}
