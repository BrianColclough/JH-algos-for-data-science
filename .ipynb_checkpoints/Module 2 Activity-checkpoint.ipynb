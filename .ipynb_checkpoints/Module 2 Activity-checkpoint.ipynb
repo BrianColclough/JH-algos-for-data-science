{
 "cells": [
  {
   "cell_type": "markdown",
   "metadata": {},
   "source": [
    "# <h3 align=\"center\">__Module 2 Activity__</h3>\n",
    "# <h3 align=\"center\">__Assigned at the start of Module 2__</h3>\n",
    "# <h3 align=\"center\">__Due at the end of Module 2__</h3><br>\n",
    "\n"
   ]
  },
  {
   "cell_type": "markdown",
   "metadata": {},
   "source": [
    "# Weekly Discussion Forum Participation\n",
    "\n",
    "Each week, you are required to participate in the module’s discussion forum. The discussion forum consists of the week's Module Activity, which is released at the beginning of the module. You must complete/attempt the activity before you can post about the activity and anything that relates to the topic. \n",
    "\n",
    "## Grading of the Discussion\n",
    "\n",
    "### 1. Initial Post:\n",
    "Create your thread by **Day 5 (Saturday night at midnight, PST).**\n",
    "\n",
    "### 2. Responses:\n",
    "Respond to at least two other posts by **Day 7 (Monday night at midnight, PST).**\n",
    "\n",
    "---\n",
    "\n",
    "## Grading Criteria:\n",
    "\n",
    "Your participation will be graded as follows:\n",
    "\n",
    "### Full Credit (100 points):\n",
    "- Submit your initial post by **Day 5.**\n",
    "- Respond to at least two other posts by **Day 7.**\n",
    "\n",
    "### Half Credit (50 points):\n",
    "- If your initial post is late but you respond to two other posts.\n",
    "- If your initial post is on time but you fail to respond to at least two other posts.\n",
    "\n",
    "### No Credit (0 points):\n",
    "- If both your initial post and responses are late.\n",
    "- If you fail to submit an initial post and do not respond to any others.\n",
    "\n",
    "---\n",
    "\n",
    "## Additional Notes:\n",
    "\n",
    "- **Late Initial Posts:** Late posts will automatically receive half credit if two responses are completed on time.\n",
    "- **Substance Matters:** Responses must be thoughtful and constructive. Comments like “Great post!” or “I agree!” without further explanation will not earn credit.\n",
    "- **Balance Participation:** Aim to engage with threads that have fewer or no responses to ensure a balanced discussion.\n",
    "\n",
    "---\n",
    "\n",
    "## Avoid:\n",
    "- A number of posts within a very short time-frame, especially immediately prior to the posting deadline.\n",
    "- Posts that complement another post, and then consist of a summary of that.\n"
   ]
  },
  {
   "cell_type": "markdown",
   "metadata": {},
   "source": [
    "# __1. Module 2__<br>\n",
    "\n",
    "A covariance matrix is a square matrix that captures the pairwise covariance between multiple features in a dataset. Each element $C[i,j]$ represents the covariance between the $i$-th and $j$-th features. Diagonal elements represent variances of individual features.\n",
    "\n",
    "Why is it Important?\n",
    "\n",
    "* Multivariate Relationships: It helps understand how features move together (positive/negative correlation).\n",
    "* Dimensionality Reduction: It's the foundation of techniques like Principal Component Analysis (PCA).\n",
    "* Data Representation: Useful for understanding the structure of multivariate data in fields like finance, image processing, and machine learning."
   ]
  },
  {
   "cell_type": "markdown",
   "metadata": {},
   "source": [
    "## Covariance Equation\n",
    "\n",
    "The covariance between two variables $X_i$ and $X_j$ over $n$ observations is given by:\n",
    "\n",
    "$$C_{i,j} = \\frac{1}{n-1} \\sum_{k=1}^{n} (X_{ki} - \\mu_i)(X_{kj} - \\mu_j)$$\n",
    "\n",
    "where,\n",
    "*  $X_{ki}$  and $ X_{kj}$ are values of variables $X_i$ and $X_j$ for the $k$-th observation.\n",
    "*   $\\mu_i$  and  $\\mu_j$ are the means of $X_i$ and $X_j$, respectively.\n",
    "*   $n$ is the total number of observations.\n",
    "\n",
    "\n",
    "## Covariance Matrix Representation\n",
    "\n",
    "For a dataset with $d$ features, the covariance matrix $C$ is represented as:\n",
    "\n",
    "\\begin{bmatrix}\n",
    "C_{1,1} & C_{1,2} & C_{1,3} & \\dots  & C_{1,d} \\\\\n",
    "C_{2,1} & C_{2,2} & C_{2,3} & \\dots  & C_{2,d} \\\\\n",
    "C_{3,1} & C_{3,2} & C_{3,3} & \\dots  & C_{3,d} \\\\\n",
    "\\vdots  & \\vdots  & \\vdots  & \\ddots & \\vdots  \\\\\n",
    "C_{d,1} & C_{d,2} & C_{d,3} & \\dots  & C_{d,d} \\\\\n",
    "\\end{bmatrix}\n",
    "\n",
    "\n",
    "This represents a $ d \\times $ symmetric matrix, where each element $C_{i,j}$ is the covariance between the variables $X_i$ and $X_j$.\n",
    "\n"
   ]
  },
  {
   "cell_type": "markdown",
   "metadata": {},
   "source": [
    "### Without using any Python packages like `numpy` or `pandas`, write a function to calculate the covariance matrix for a given dataset. "
   ]
  },
  {
   "cell_type": "code",
   "execution_count": 11,
   "metadata": {},
   "outputs": [],
   "source": [
    "def compute_covariance_matrix(data):\n",
    "    \"\"\"\n",
    "    Compute the covariance matrix for a given dataset.\n",
    "    Input: data - A 2D list where each inner list is a variable (e.g., [[X], [Y]])\n",
    "    Output: Covariance matrix as a 2D list\n",
    "    \"\"\"\n",
    "\n",
    "    # Number of variables\n",
    "    n_vars = len(data)\n",
    "    \n",
    "    # Number of observations (assuming all variables have same length)\n",
    "    n_obs = len(data[0])\n",
    "    \n",
    "    # Calculate means for each variable\n",
    "    means = []\n",
    "    for var in data:\n",
    "        mean = sum(var) / len(var)\n",
    "        means.append(mean)\n",
    "    \n",
    "    # Initialize covariance matrix\n",
    "    cov_matrix = [[0.0 for _ in range(n_vars)] for _ in range(n_vars)]\n",
    "    \n",
    "    # Calculate covariance for each pair of variables\n",
    "    for i in range(n_vars):\n",
    "        for j in range(n_vars):\n",
    "            # Calculate covariance between variable i and variable j\n",
    "            covariance = 0.0\n",
    "            for k in range(n_obs):\n",
    "                covariance += (data[i][k] - means[i]) * (data[j][k] - means[j])\n",
    "            \n",
    "            # Divide by n-1 for sample covariance\n",
    "            cov_matrix[i][j] = covariance / (n_obs - 1)\n",
    "    \n",
    "    return cov_matrix"
   ]
  },
  {
   "cell_type": "markdown",
   "metadata": {},
   "source": [
    "### Use your new covariance matrix function to compute the covariance matrix of the first 5 rows of the iris dataset. "
   ]
  },
  {
   "cell_type": "code",
   "execution_count": 22,
   "metadata": {},
   "outputs": [
    {
     "name": "stdout",
     "output_type": "stream",
     "text": [
      "Data shape: (150, 4)\n",
      "Labels shape: (150,)\n",
      "First 5 rows of data:\n",
      " [[5.1 3.5 1.4 0.2]\n",
      " [4.9 3.  1.4 0.2]\n",
      " [4.7 3.2 1.3 0.2]\n",
      " [4.6 3.1 1.5 0.2]\n",
      " [5.  3.6 1.4 0.2]]\n",
      "First 5 labels: [0 0 0 0 0]\n"
     ]
    },
    {
     "ename": "ValueError",
     "evalue": "When changing to a larger dtype, its size must be a divisor of the total size in bytes of the last axis of the array.",
     "output_type": "error",
     "traceback": [
      "\u001b[0;31m---------------------------------------------------------------------------\u001b[0m",
      "\u001b[0;31mValueError\u001b[0m                                Traceback (most recent call last)",
      "Cell \u001b[0;32mIn[22], line 27\u001b[0m\n\u001b[1;32m     24\u001b[0m \u001b[38;5;28mprint\u001b[39m(\u001b[38;5;124m\"\u001b[39m\u001b[38;5;124mFirst 5 labels:\u001b[39m\u001b[38;5;124m\"\u001b[39m, iris_labels[:\u001b[38;5;241m5\u001b[39m])\n\u001b[1;32m     26\u001b[0m cov_matrix \u001b[38;5;241m=\u001b[39m compute_covariance_matrix(iris_data[:\u001b[38;5;241m5\u001b[39m])\n\u001b[0;32m---> 27\u001b[0m \u001b[43mnp\u001b[49m\u001b[38;5;241;43m.\u001b[39;49m\u001b[43mmatrix\u001b[49m\u001b[43m(\u001b[49m\u001b[43mcov_matrix\u001b[49m\u001b[43m)\u001b[49m\u001b[38;5;241;43m.\u001b[39;49m\u001b[43mview\u001b[49m\u001b[43m(\u001b[49m\u001b[43mdtype\u001b[49m\u001b[38;5;241;43m=\u001b[39;49m\u001b[43mnp\u001b[49m\u001b[38;5;241;43m.\u001b[39;49m\u001b[43mfloat128\u001b[49m\u001b[43m)\u001b[49m\n",
      "\u001b[0;31mValueError\u001b[0m: When changing to a larger dtype, its size must be a divisor of the total size in bytes of the last axis of the array."
     ]
    }
   ],
   "source": [
    "from sklearn.datasets import load_iris\n",
    "import numpy as np\n",
    "\n",
    "# Load the Iris dataset\n",
    "iris = load_iris()\n",
    "\n",
    "# iris is a Bunch object, similar to a dictionary, containing data and metadata\n",
    "# The features (measurements) of the Iris dataset are stored in 'data'\n",
    "iris_data = iris.data\n",
    "\n",
    "# The labels (species of each instance) are stored in 'target'\n",
    "iris_labels = iris.target\n",
    "\n",
    "# The names of the features and labels are also stored\n",
    "feature_names = iris.feature_names\n",
    "label_names = iris.target_names\n",
    "\n",
    "# To see the shape of the dataset\n",
    "print(\"Data shape:\", iris_data.shape)  # e.g., (150, 4)\n",
    "print(\"Labels shape:\", iris_labels.shape)  # e.g., (150,)\n",
    "\n",
    "# If you want to see the first few entries\n",
    "print(\"First 5 rows of data:\\n\", iris_data[:5])\n",
    "print(\"First 5 labels:\", iris_labels[:5])\n",
    "\n",
    "cov_matrix = compute_covariance_matrix(iris_data[:5])\n",
    "np.matrix(cov_matrix).view()\n",
    "\n"
   ]
  },
  {
   "cell_type": "markdown",
   "metadata": {},
   "source": [
    "### Discuss the relationship between the variables."
   ]
  },
  {
   "cell_type": "markdown",
   "metadata": {},
   "source": [
    "# Explanation here"
   ]
  },
  {
   "cell_type": "markdown",
   "metadata": {},
   "source": [
    "### "
   ]
  },
  {
   "cell_type": "markdown",
   "metadata": {},
   "source": [
    "### Plot data points for 2 of the features in the dataset and show how the covariance matrix reflects the orientation and spread of data."
   ]
  },
  {
   "cell_type": "code",
   "execution_count": 13,
   "metadata": {},
   "outputs": [],
   "source": [
    "# Create plots here"
   ]
  },
  {
   "cell_type": "markdown",
   "metadata": {},
   "source": [
    "# References\n",
    "[1] Thomas H. Cormen, Charles E. Leiserson, Ronald L. Rivest, and Clifford Stein. Introduction to\n",
    "Algorithms, Third Edition. MIT Press and McGraw-Hill, 2009. ISBN-13: 978-0-262-03384-8<br><br>"
   ]
  }
 ],
 "metadata": {
  "kernelspec": {
   "display_name": "en-685-621",
   "language": "python",
   "name": "python3"
  },
  "language_info": {
   "codemirror_mode": {
    "name": "ipython",
    "version": 3
   },
   "file_extension": ".py",
   "mimetype": "text/x-python",
   "name": "python",
   "nbconvert_exporter": "python",
   "pygments_lexer": "ipython3",
   "version": "3.9.22"
  }
 },
 "nbformat": 4,
 "nbformat_minor": 2
}
