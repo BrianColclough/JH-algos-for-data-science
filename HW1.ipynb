{
 "cells": [
  {
   "cell_type": "markdown",
   "metadata": {},
   "source": [
    "<h1 align=\"center\"><b>Homework Assignment 1 (100 points total)</b></h1>\n",
    "<h3 align=\"center\"><b>Assigned at the start of Module 1</b></h3>\n",
    "<h3 align=\"center\"><b>Due at the end of Module 2</b></h3><br>\n"
   ]
  },
  {
   "cell_type": "markdown",
   "metadata": {},
   "source": [
    "# Q1: Algorithm Analysis\n",
    "\n",
    "## Background on Algorithm Analysis (50 points total)\n",
    "\n",
    "- Constant Time (O(1)): Regardless of the input size, the algorithm takes a constant amount of time to complete.\n",
    "    - Accessing an element in an array by index.\n",
    "    - Inserting or deleting an element at the beginning of a linked list.\n",
    "\n",
    "\n",
    "- Linear Time (O(n)): The runtime grows linearly with the size of the input.\n",
    "    - Iterating through a list or array once.\n",
    "    - Searching for an element in an unsorted list by traversing it.\n",
    "\n",
    "\n",
    "- Logarithmic Time (O(log n)): As the input size grows, the runtime increases logarithmically.\n",
    "    - Binary search in a sorted array.\n",
    "    - Operations in a balanced binary search tree (BST).\n",
    "    \n",
    "\n",
    "- Quadratic Time (O(n^2)): The runtime grows quadratically with the input size.\n",
    "    - Nested loops where each loop iterates through the input.\n",
    "    - Some sorting algorithms like Bubble Sort or Selection Sort.\n",
    "\n",
    "\n",
    "- Exponential Time (O(2^n)): The runtime doubles with each addition to the input size.\n",
    "    - Algorithms involving recursive solutions that make repeated calls.\n",
    "    - Solving the Traveling Salesman Problem using brute force.\n",
    "    \n",
    "\n",
    "- Factorial Time (O(n!)): The runtime grows factorially with the input size.\n",
    "    - Permutation problems that explore all possible combinations, like the brute force solution for the Traveling Salesman Problem with no optimizations."
   ]
  },
  {
   "cell_type": "markdown",
   "metadata": {},
   "source": [
    "## Bubble Sort (Example)\n",
    "\n",
    "Use the below analysis and explanation as a template for answering the following questions on algorithm analysis. You are to analyze each algorithm line by line, calculate the runtime complexity, and provide an explanation in markdown."
   ]
  },
  {
   "cell_type": "code",
   "execution_count": 1,
   "metadata": {},
   "outputs": [],
   "source": [
    "def bubble_sort(arr):\n",
    "    n = len(arr)\n",
    "    for i in range(n):  # O(n)\n",
    "        for j in range(0, n-i-1):  # O(n)\n",
    "            if arr[j] > arr[j+1]:  # O(1)\n",
    "                arr[j], arr[j+1] = arr[j+1], arr[j]  # O(1)\n",
    "\n",
    "# Total Runtime Complexity:\n",
    "# Big O notation: O(n^2)\n",
    "# Big Omega notation: Ω(n)\n",
    "# Big Theta notation: Θ(n^2)\n"
   ]
  },
  {
   "cell_type": "markdown",
   "metadata": {},
   "source": [
    "Explanation:\n",
    "\n",
    "- The outer loop iterates 'n' times, where 'n' is the length of the array.\n",
    "- The inner loop also iterates 'n' times in the worst case.\n",
    "- The comparisons and swapping operations inside the inner loop are constant time ('O(1)').\n",
    "\n",
    "This results in a total runtime complexity of O(n^2) in the worst case, Ω(n) in the best case (already sorted), and Θ(n^2) in the average and worst cases, as both loops iterate over the input array."
   ]
  },
  {
   "cell_type": "markdown",
   "metadata": {},
   "source": [
    "## 1A Merge Sort (10 points)"
   ]
  },
  {
   "cell_type": "code",
   "execution_count": 2,
   "metadata": {},
   "outputs": [],
   "source": [
    "def merge_sort(arr):\n",
    "    if len(arr) > 1:  \n",
    "        mid = len(arr) // 2 # O(1) \n",
    "        left_half = arr[:mid] # O(n) \n",
    "        right_half = arr[mid:] # O(n)   \n",
    "\n",
    "        merge_sort(left_half) # T(n/2) \n",
    "        merge_sort(right_half) # T(n/2)  \n",
    "\n",
    "        i = j = k = 0   # O(1) \n",
    "\n",
    "        while i < len(left_half) and j < len(right_half):  # O(n) \n",
    "            if left_half[i] < right_half[j]:  # O(1)   \n",
    "                arr[k] = left_half[i] # O(1)    \n",
    "                i += 1 # O(1)   \n",
    "            else:\n",
    "                arr[k] = right_half[j]  # O(1)   \n",
    "                j += 1 # O(1)   \n",
    "            k += 1 # O(1)   \n",
    "\n",
    "        while i < len(left_half): # O(n)   \n",
    "            arr[k] = left_half[i]  # O(1)   \n",
    "            i += 1 # O(1)   \n",
    "            k += 1 # O(1)   \n",
    "\n",
    "        while j < len(right_half): # O(n)   \n",
    "            arr[k] = right_half[j]  # O(1)   \n",
    "            j += 1 # O(1)   \n",
    "            k += 1 # O(1)   \n",
    "\n",
    "# Total Runtime Complexity:\n",
    "# Big O notation: O(n log n)\n",
    "# Big Omega notation: Ω(n log n)\n",
    "# Big Theta notation: Θ(n log n)\n"
   ]
  },
  {
   "cell_type": "markdown",
   "metadata": {},
   "source": [
    "Explanation:\n",
    "Becuase merge sort splits the input array in half recursively we get O(log n), and since at each level of recursion we have the while loops going through the array, that is O(n). Putting this together we get a runtine of O(n log n). This is the same for all the different notations because no matter if you pass a sorted or reverse sorted array merge sort will run through every enty in the array the same way.\n"
   ]
  },
  {
   "cell_type": "markdown",
   "metadata": {},
   "source": [
    "## 1B Binary Search (10 points)"
   ]
  },
  {
   "cell_type": "code",
   "execution_count": 3,
   "metadata": {},
   "outputs": [],
   "source": [
    "def binary_search(arr, target):\n",
    "    low = 0 # O(1)   \n",
    "    high = len(arr) - 1 # O(1)   \n",
    "\n",
    "    while low <= high: # O(log n) \n",
    "        mid = (low + high) // 2 # O(1) \n",
    "        mid_val = arr[mid] # O(1)   \n",
    "\n",
    "        if mid_val == target: # O(1)   \n",
    "            return mid # O(1)   \n",
    "        elif mid_val < target: # O(1)   \n",
    "            low = mid + 1 # O(1)   \n",
    "        else:\n",
    "            high = mid - 1 # O(1)   \n",
    "\n",
    "    return -1 # O(1)   \n",
    "\n",
    "# Total Runtime Complexity:\n",
    "# Big O notation: O(log n)\n",
    "# Big Omega notation: Ω(1)\n",
    "# Big Theta notation: Θ(log n)"
   ]
  },
  {
   "cell_type": "markdown",
   "metadata": {},
   "source": [
    "Explanation:\n"
   ]
  },
  {
   "cell_type": "markdown",
   "metadata": {},
   "source": [
    "- Each iteration of the loop eliminates half of the values that are being searched, so the loop is O(log n) time for worst and average case\n",
    "- For the best case its possible the first mid value is what we are looking for in which case the runtime is O(1)\n",
    "- operatiosn inside and outside the loop are O(1)\n",
    "\n",
    "When we are looping through our sorted array if the first value we get for mid is the target value then the running time is O(1). Otherwise we expect a couple of iterations in the loop which will result in O(log n) running time for average and worst case."
   ]
  },
  {
   "cell_type": "markdown",
   "metadata": {},
   "source": [
    "## 1C Linear Search (10 points)"
   ]
  },
  {
   "cell_type": "code",
   "execution_count": 4,
   "metadata": {},
   "outputs": [],
   "source": [
    "def linear_search(arr, target):\n",
    "    for i in range(len(arr)): # O(n) \n",
    "        if arr[i] == target: # O(1)   \n",
    "            return i # O(1)   \n",
    "    return -1 # O(1)   \n",
    "\n",
    "# Total Runtime Complexity:\n",
    "# Big O notation: O(n)\n",
    "# Big Omega notation: Ω(1)\n",
    "# Big Theta notation: Θ(n)"
   ]
  },
  {
   "cell_type": "markdown",
   "metadata": {},
   "source": [
    "Explanation:\n",
    "\n",
    "- The for loop iterates through each element in the array once, so the loop is O(n) time for worst and average case\n",
    "- For the best case it's possible the first element is what we are looking for in which case the runtime is O(1)\n",
    "- Operations inside the loop (comparison and return) are O(1)\n",
    "\n",
    "When we are looping through our array if the first value we check is the target value then the running time is O(1). Otherwise we expect to check multiple elements in the array which will result in O(n) running time for average and worst case.\n"
   ]
  },
  {
   "cell_type": "markdown",
   "metadata": {},
   "source": [
    "## 1D Selection Sort (10 points)"
   ]
  },
  {
   "cell_type": "code",
   "execution_count": 5,
   "metadata": {},
   "outputs": [],
   "source": [
    "def selection_sort(arr):\n",
    "    n = len(arr) # O(1)\n",
    "    for i in range(n - 1): # O(n)\n",
    "        min_index = i # O(1)\n",
    "        for j in range(i + 1, n): # O(n)\n",
    "            if arr[j] < arr[min_index]: # O(1)\n",
    "                min_index = j # O(1)\n",
    "        arr[i], arr[min_index] = arr[min_index], arr[i] # O(1)\n",
    "\n",
    "# Total Runtime Complexity:\n",
    "# Big O notation: O(n^2)\n",
    "# Big Omega notation: Ω(n^2)\n",
    "# Big Theta notation: Θ(n^2)"
   ]
  },
  {
   "cell_type": "markdown",
   "metadata": {},
   "source": [
    "Explanation:\n",
    "\n",
    "- The outer loop iterates through n-1 elements, so it's O(n) time\n",
    "- The inner loop starts from i+1 and goes to n, so it's O(n) time in the worst case\n",
    "- Operations inside both loops (comparisons and assignments) are O(1)\n",
    "\n",
    "When we are running selection sort, we always need to find the minimum element in the remaining unsorted portion of the array. This requires checking every remaining element regardless of whether the array is already sorted or not. The outer loop runs n times, and for each iteration, the inner loop runs an average of n/2 times, which results in O(n^2) running time for all cases.\n"
   ]
  },
  {
   "cell_type": "markdown",
   "metadata": {},
   "source": [
    "# 1E Heap Sort (10 points)"
   ]
  },
  {
   "cell_type": "code",
   "execution_count": null,
   "metadata": {},
   "outputs": [],
   "source": [
    "def heapify(arr, n, i):\n",
    "    largest = i                      \n",
    "    left = 2 * i + 1                 \n",
    "    right = 2 * i + 2             \n",
    "\n",
    "    if left < n and arr[left] > arr[largest]: # O(1)\n",
    "        largest = left # O(1)\n",
    "\n",
    "    if right < n and arr[right] > arr[largest]: # O(1)\n",
    "        largest = right # O(1)\n",
    "\n",
    "    if largest != i: # O(1)\n",
    "        arr[i], arr[largest] = arr[largest], arr[i] # O(1)\n",
    "        heapify(arr, n, largest) # O(log n)\n",
    "\n",
    "\n",
    "def heap_sort(arr):\n",
    "    n = len(arr) # O(1)\n",
    "\n",
    "    for i in range(n // 2 - 1, -1, -1): # O(n)\n",
    "        heapify(arr, n, i) # O(1)\n",
    "\n",
    "    for i in range(n - 1, 0, -1): # O(n)\n",
    "        arr[i], arr[0] = arr[0], arr[i] # O(1)\n",
    "        heapify(arr, i, 0) # O(1)\n",
    "\n",
    "# Total Runtime Complexity:\n",
    "# Big O notation: O(n log n)\n",
    "# Big Omega notation: Ω(n log n)\n",
    "# Big Theta notation: Θ(n log n)\n"
   ]
  },
  {
   "cell_type": "markdown",
   "metadata": {},
   "source": [
    "Explanation:\n",
    "\n",
    "Building the max-heap\n",
    "\n",
    "- The loop for i in range(n//2−1,−1,−1) runs about n/2 times → O(n) calls to heapify\n",
    "- Each heapify call may travel down the height of the tree (O(log n)) → O(n log n) Extracting elements\n",
    "\n",
    "The loop for i in range(n−1,0,−1) runs n−1 times → O(n)\n",
    "\n",
    "Each iteration does:\n",
    "- A constant-time swap of root and arr[i] → O(1)\n",
    "- A heapify(arr, i, 0) on a heap of size i → O(log n)\n",
    "\n",
    "heapify function\n",
    "Performs a few constant-time comparisons and assignments → O(1)\n",
    "On a swap, recurses down one branch of the heap → worst-case O(log n)\n"
   ]
  },
  {
   "cell_type": "markdown",
   "metadata": {},
   "source": [
    "# Q2: Algorithm Design & Analysis (20 points)\n",
    "\n",
    "For this question, we will take the above process one step further. We are going to provide you with a common algorithm, and you are to complete the following:\n",
    "\n",
    "- Construct pseudocode for the algorithm.\n",
    "- Analyze your pseudocode line by line.\n",
    "- Provide the runtime complexity for the algorithm.\n",
    "- Provide an explanation justifying your analysis of the algorithm. \n",
    "\n",
    "You may select from the following:\n",
    "\n",
    "### 1. Euclidean Algorithm\n",
    "- **Category**: Number theory  \n",
    "- **Purpose**: Finds the greatest common divisor (GCD) of two numbers using repeated division.  \n",
    "\n",
    "### 2. Fibonacci Sequence (Iterative or Recursive)\n",
    "- **Category**: Sequence generation  \n",
    "- **Purpose**: Generates the Fibonacci sequence, where each number is the sum of the two preceding ones.  \n",
    "\n",
    "### 3. Prime Number Checking (Trial Division)\n",
    "- **Category**: Number theory  \n",
    "- **Purpose**: Determines whether a number is prime by checking divisibility up to its square root.  \n",
    "\n"
   ]
  },
  {
   "cell_type": "markdown",
   "metadata": {},
   "source": [
    "# Im going to do Prime Number Checking with Trial Division\n",
    "\n",
    "Using this algo we need to check weather a number n is divisble by any prime number that is less than sqrt(n). Since every number except 1 is divisible by at least one prime number we only need to check if our number n is divible by the primes less than sqrt(n)\n",
    "\n",
    "## Psudo code\n",
    "\n",
    "```python\n",
    "def prime_check(n):\n",
    "    if n <= 1: # O(1) - 0 and 1 are both non-prime\n",
    "        return False # O(1) \n",
    "    elif n <= 3: # O(1) - 2 and 3 are both prime so we can quick return them\n",
    "        return True # O(1)\n",
    "    else:\n",
    "        primes = get_primes_up_to(math.floor(sqrt(n))) # O(squr(n) log log n) - Gets the prime numbers up to our limit of \"n\"\n",
    "\n",
    "        for prime in primes: # O(n) - Loops through our prime numbers we received\n",
    "            if n % prime == 0: # O(1) - checks remainder of our number divided by the current prime number\n",
    "                return False # O(1)\n",
    "    \n",
    "        return True # O(1)\n",
    "```\n",
    "\n",
    "Sieve of Eratosthenes - as known algorithm with *O(n log log n)* time complexity\n",
    "\n",
    "```python\n",
    "def get_primes_up_to(limit): \n",
    "    is_prime = [True] * (limit+1) # O(limit) - Creates a boolean array of for 0 to limit\n",
    "    is_prime[0] = is_prime[1] = False # 0(1) - 0 and 1 are not primes\n",
    "    for p in range(2, floor(sqrt(limit))+1): # O(sqrt(limit)) - we only need to check primes up to the square root of our limit\n",
    "        if is_prime[p]: # 0(1) only check multiples of numbers that are prime\n",
    "            \"\"\"\n",
    "            O(limit log log limit)\n",
    "            loop through multiples of prime numbers starting at p^2 since we have calculated the previous multiples at lower primes. For example, if p=5, the multiples 10 (2×5) and 15 (3×5) were already marked when we processed p=2 and p=3.\n",
    "            \"\"\"\n",
    "            for multiple in range(p*p, limit+1, p): \n",
    "                is_prime[multiple] = False # O(1) - mark as not prime\n",
    "    return [i for i, flag in enumerate(is_prime) if flag] # O(n)  \n",
    "```\n",
    "\n",
    "# Total Runtime Complexity:\n",
    "# Big O notation: O(sqrt(n)log log n)\n",
    "# Big Omega notation: Ω(1)\n",
    "# Big Theta notation: Θ(sqrt(n) log log n)\n",
    "\n",
    "## Line by line walkthrough\n"
   ]
  },
  {
   "cell_type": "markdown",
   "metadata": {},
   "source": [
    "# Justification\n",
    "\n",
    "1. **Base-case checks are constant time**\n",
    "\n",
    "   * `if n ≤ 1`, `elif n ≤ 3` and their `return`s each take **O(1)**, so they contribute only a constant overhead.\n",
    "\n",
    "2. **Computing the limit is constant**\n",
    "\n",
    "   * `limit = floor(sqrt(n))` is a single arithmetic operation → **O(1)**.\n",
    "\n",
    "3. **Sieve of Eratosthenes to get primes ≤√n**\n",
    "\n",
    "   * **Array initialization:** O(limit) = O(sqrt(n))\n",
    "   * **Outer loop (p from 2 to sqrt(limit)):** O(sqrt(limit)) work to decide which p’s to sieve\n",
    "   * **Inner marking loop:** total work ≈ summation of -> (limit/p) = O(limit log log limit) = O(sqrt(n) · log log sqrt(n)) = O(sqrt(n) log log n)\n",
    "   * **Collect primes:** O(limit) = O(sqrt(n))\n",
    "   * **Overall sieve cost:** dominated by the marking step → **O(√n log log n)**\n",
    "\n",
    "4. **Division loop over the primes**\n",
    "\n",
    "   * You iterate over primes o(n)\n",
    "   * Each iteration does a modulus check and a conditional return → **O(1)** each\n",
    "   * **Total:** O(√n/ log n), which grows more slowly than O(sqrt(n) log log n), so it does *not* dominate."
   ]
  },
  {
   "cell_type": "markdown",
   "metadata": {},
   "source": [
    "# Q3: Probabilities and Distributions (30 points total)"
   ]
  },
  {
   "cell_type": "markdown",
   "metadata": {},
   "source": [
    " Objective: Demonstrate understanding of probability distributions, moments, and their data science applications.\n",
    "\n",
    "## 3A Dataset Identification (10 points)\n",
    "\n",
    " Find a publicly available dataset that exhibits characteristics of a particular probability distribution (e.g., Poisson, Normal, Exponential).\n",
    "\n",
    " Over the course of this question you will help prove that this dataset aligns with that chosen distribution."
   ]
  },
  {
   "cell_type": "code",
   "execution_count": null,
   "metadata": {},
   "outputs": [],
   "source": [
    "# Import Python Modules\n",
    "\n",
    "\n",
    "# Import dataset"
   ]
  },
  {
   "cell_type": "markdown",
   "metadata": {},
   "source": [
    "Describe your dataset:\n",
    "\n"
   ]
  },
  {
   "cell_type": "markdown",
   "metadata": {},
   "source": [
    "## 3B Compute the first four moments for each feature (column). (10 points)\n",
    "Select a minimum of two features for your response."
   ]
  },
  {
   "cell_type": "code",
   "execution_count": null,
   "metadata": {},
   "outputs": [],
   "source": [
    "# Perform computation here."
   ]
  },
  {
   "cell_type": "markdown",
   "metadata": {},
   "source": [
    "## 3C Interpret these moments in the context of the dataset and compare them to the theoretical values of the selected distribution. (10 points)\n",
    "\n",
    "At a minimum you should perform the following:\n",
    "- Compute the theoretical values of the first four moments.\n",
    "- Plot the data and fit the chosen distribution visually (using histograms, bar charts, etc.)\n",
    "- Provide a written analysis of the differences between the theoretical and calculated values."
   ]
  }
 ],
 "metadata": {
  "interpreter": {
   "hash": "aee8b7b246df8f9039afb4144a1f6fd8d2ca17a180786b69acc140d282b71a49"
  },
  "kernelspec": {
   "display_name": "Python 3.9.1 64-bit",
   "name": "python3"
  },
  "language_info": {
   "codemirror_mode": {
    "name": "ipython",
    "version": 3
   },
   "file_extension": ".py",
   "mimetype": "text/x-python",
   "name": "python",
   "nbconvert_exporter": "python",
   "pygments_lexer": "ipython3",
   "version": "3.9.1"
  },
  "orig_nbformat": 4
 },
 "nbformat": 4,
 "nbformat_minor": 2
}
