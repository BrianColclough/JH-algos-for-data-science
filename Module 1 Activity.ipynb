{
 "cells": [
  {
   "cell_type": "markdown",
   "metadata": {},
   "source": [
    "# <h3 align=\"center\">__Module 1 Activity__</h3>\n",
    "# <h3 align=\"center\">__Assigned at the start of Module 1__</h3>\n",
    "# <h3 align=\"center\">__Due at the end of Module 1__</h3><br>\n",
    "\n"
   ]
  },
  {
   "cell_type": "markdown",
   "metadata": {},
   "source": [
    "# Weekly Discussion Forum Participation\n",
    "\n",
    "Each week, you are required to participate in the module’s discussion forum. The discussion forum consists of the week's Module Activity, which is released at the beginning of the module. You must complete/attempt the activity before you can post about the activity and anything that relates to the topic. \n",
    "\n",
    "## Grading of the Discussion\n",
    "\n",
    "### 1. Initial Post:\n",
    "Create your thread by **Day 5 (Saturday night at midnight, PST).**\n",
    "\n",
    "### 2. Responses:\n",
    "Respond to at least two other posts by **Day 7 (Monday night at midnight, PST).**\n",
    "\n",
    "---\n",
    "\n",
    "## Grading Criteria:\n",
    "\n",
    "Your participation will be graded as follows:\n",
    "\n",
    "### Full Credit (100 points):\n",
    "- Submit your initial post by **Day 5.**\n",
    "- Respond to at least two other posts by **Day 7.**\n",
    "\n",
    "### Half Credit (50 points):\n",
    "- If your initial post is late but you respond to two other posts.\n",
    "- If your initial post is on time but you fail to respond to at least two other posts.\n",
    "\n",
    "### No Credit (0 points):\n",
    "- If both your initial post and responses are late.\n",
    "- If you fail to submit an initial post and do not respond to any others.\n",
    "\n",
    "---\n",
    "\n",
    "## Additional Notes:\n",
    "\n",
    "- **Late Initial Posts:** Late posts will automatically receive half credit if two responses are completed on time.\n",
    "- **Substance Matters:** Responses must be thoughtful and constructive. Comments like “Great post!” or “I agree!” without further explanation will not earn credit.\n",
    "- **Balance Participation:** Aim to engage with threads that have fewer or no responses to ensure a balanced discussion.\n",
    "\n",
    "---\n",
    "\n",
    "## Avoid:\n",
    "- A number of posts within a very short time-frame, especially immediately prior to the posting deadline.\n",
    "- Posts that complement another post, and then consist of a summary of that.\n"
   ]
  },
  {
   "cell_type": "code",
   "execution_count": 1,
   "metadata": {},
   "outputs": [
    {
     "data": {
      "text/html": [
       "<div>\n",
       "<style scoped>\n",
       "    .dataframe tbody tr th:only-of-type {\n",
       "        vertical-align: middle;\n",
       "    }\n",
       "\n",
       "    .dataframe tbody tr th {\n",
       "        vertical-align: top;\n",
       "    }\n",
       "\n",
       "    .dataframe thead th {\n",
       "        text-align: right;\n",
       "    }\n",
       "</style>\n",
       "<table border=\"1\" class=\"dataframe\">\n",
       "  <thead>\n",
       "    <tr style=\"text-align: right;\">\n",
       "      <th></th>\n",
       "      <th>sepal length (cm)</th>\n",
       "      <th>sepal width (cm)</th>\n",
       "      <th>petal length (cm)</th>\n",
       "      <th>petal width (cm)</th>\n",
       "      <th>target</th>\n",
       "    </tr>\n",
       "  </thead>\n",
       "  <tbody>\n",
       "    <tr>\n",
       "      <th>0</th>\n",
       "      <td>5.1</td>\n",
       "      <td>3.5</td>\n",
       "      <td>1.4</td>\n",
       "      <td>0.2</td>\n",
       "      <td>0</td>\n",
       "    </tr>\n",
       "    <tr>\n",
       "      <th>1</th>\n",
       "      <td>4.9</td>\n",
       "      <td>3.0</td>\n",
       "      <td>1.4</td>\n",
       "      <td>0.2</td>\n",
       "      <td>0</td>\n",
       "    </tr>\n",
       "    <tr>\n",
       "      <th>2</th>\n",
       "      <td>4.7</td>\n",
       "      <td>3.2</td>\n",
       "      <td>1.3</td>\n",
       "      <td>0.2</td>\n",
       "      <td>0</td>\n",
       "    </tr>\n",
       "    <tr>\n",
       "      <th>3</th>\n",
       "      <td>4.6</td>\n",
       "      <td>3.1</td>\n",
       "      <td>1.5</td>\n",
       "      <td>0.2</td>\n",
       "      <td>0</td>\n",
       "    </tr>\n",
       "    <tr>\n",
       "      <th>4</th>\n",
       "      <td>5.0</td>\n",
       "      <td>3.6</td>\n",
       "      <td>1.4</td>\n",
       "      <td>0.2</td>\n",
       "      <td>0</td>\n",
       "    </tr>\n",
       "  </tbody>\n",
       "</table>\n",
       "</div>"
      ],
      "text/plain": [
       "   sepal length (cm)  sepal width (cm)  petal length (cm)  petal width (cm)  \\\n",
       "0                5.1               3.5                1.4               0.2   \n",
       "1                4.9               3.0                1.4               0.2   \n",
       "2                4.7               3.2                1.3               0.2   \n",
       "3                4.6               3.1                1.5               0.2   \n",
       "4                5.0               3.6                1.4               0.2   \n",
       "\n",
       "   target  \n",
       "0       0  \n",
       "1       0  \n",
       "2       0  \n",
       "3       0  \n",
       "4       0  "
      ]
     },
     "execution_count": 1,
     "metadata": {},
     "output_type": "execute_result"
    }
   ],
   "source": [
    "import pandas as pd\n",
    "from sklearn.datasets import load_iris\n",
    "\n",
    "iris = load_iris()\n",
    "\n",
    "iris_df = pd.DataFrame(\n",
    "    data=iris.data,\n",
    "    columns=iris.feature_names\n",
    ")\n",
    "iris_df['target'] = iris.target\n",
    "\n",
    "iris_df.head()\n"
   ]
  },
  {
   "cell_type": "markdown",
   "metadata": {},
   "source": [
    "# __1. Module 1__<br>\n",
    "\n",
    "Python has four inbuilt data structures as follows:<br>\n",
    "1. Lists\n",
    "2. Dictionary\n",
    "3. Tuple\n",
    "4. Set <br>\n",
    "\n",
    "For each of these data structures use the Iris data set and provide the following:"
   ]
  },
  {
   "cell_type": "markdown",
   "metadata": {},
   "source": [
    "# (a) Lists\n",
    "- Define a \"list\" as comprehensively and accurately as you would find in a dictionary. Provide a clear and concise explanation, covering its essential meaning, characteristics, and any relevant context.\n",
    "- Create a list in Python using the first observation, all features and label from the Iris data set\n",
    "- Show the output with a print statement\n",
    "- Add the second observation of the Iris data set to your list\n",
    "- Show the output of your list with a print statement"
   ]
  },
  {
   "cell_type": "markdown",
   "metadata": {},
   "source": [
    "## Definition\n",
    "\n",
    "A list is a mutable ordered collection of items that can hold different data types. The mutation of a list allows actions for appending items to the list, and removing items from the list. Supports the ability to acess items by their *index*, or position in the list, and slicing, which allows extracting of a portion of the list"
   ]
  },
  {
   "cell_type": "code",
   "execution_count": 2,
   "metadata": {},
   "outputs": [],
   "source": [
    "## import libraries\n",
    "import pandas as pd\n",
    "from sklearn.datasets import load_iris\n",
    "\n",
    "## import iris dataset\n",
    "iris = load_iris()"
   ]
  },
  {
   "cell_type": "code",
   "execution_count": 3,
   "metadata": {},
   "outputs": [
    {
     "name": "stdout",
     "output_type": "stream",
     "text": [
      "First observation:\n",
      "[5.1, 3.5, 1.4, 0.2, 0]\n",
      "--------------------------------------------------\n",
      "Second observation:\n",
      "[4.9, 3.0, 1.4, 0.2, 0]\n",
      "--------------------------------------------------\n",
      "Records:\n",
      "[[5.1, 3.5, 1.4, 0.2, 0], [4.9, 3.0, 1.4, 0.2, 0]]\n"
     ]
    }
   ],
   "source": [
    "## Type code here for the problem ##\n",
    "first_observation = iris.data[0].tolist() + [iris.target[0].item()]\n",
    "print(\"First observation:\")\n",
    "print(first_observation)\n",
    "\n",
    "print('-'*50)\n",
    "second_observation = iris.data[1].tolist() + [iris.target[1].item()]\n",
    "print(\"Second observation:\")\n",
    "print(second_observation)\n",
    "\n",
    "print('-'*50)\n",
    "records = [first_observation, second_observation]\n",
    "print(\"Records:\")\n",
    "print(records)"
   ]
  },
  {
   "cell_type": "markdown",
   "metadata": {},
   "source": [
    "# (b) Dictionary\n",
    "- Define a \"dictionary\" as comprehensively and accurately as you would find in a dictionary. Provide a clear and concise explanation, covering its essential meaning, characteristics, and any relevant context.\n",
    "- Create a dictionary in Python using the classes of Setosa, Versicolor and Virginica, allow elements (2 observations per class) to be added\n",
    "- Show the output with a print statement\n",
    "- Add a third observation of the Iris data set for each class\n",
    "- Show the output of your with a print statement"
   ]
  },
  {
   "cell_type": "markdown",
   "metadata": {},
   "source": [
    "## Definition ##\n",
    "\n",
    "Dictionarys hold key-value pairs. In a dictionary you have *distinct keys* which correspond to a value. Dictionarys are mutable, allowing you to add and remove key-value pairs. They allow for fast insertion, retrieval, and deletion by **key**. "
   ]
  },
  {
   "cell_type": "code",
   "execution_count": 4,
   "metadata": {},
   "outputs": [
    {
     "name": "stdout",
     "output_type": "stream",
     "text": [
      "Observation dictionary with first 2 entries\n",
      "{'setosa': [[5.1, 3.5, 1.4, 0.2], [4.9, 3.0, 1.4, 0.2]], 'versicolor': [[7.0, 3.2, 4.7, 1.4], [6.4, 3.2, 4.5, 1.5]], 'virginica': [[6.3, 3.3, 6.0, 2.5], [5.8, 2.7, 5.1, 1.9]]}\n",
      "--------------------------------------------------\n",
      "Observation dictionary with first 3 entries\n",
      "{'setosa': [[5.1, 3.5, 1.4, 0.2], [4.9, 3.0, 1.4, 0.2], [4.7, 3.2, 1.3, 0.2]], 'versicolor': [[7.0, 3.2, 4.7, 1.4], [6.4, 3.2, 4.5, 1.5], [6.9, 3.1, 4.9, 1.5]], 'virginica': [[6.3, 3.3, 6.0, 2.5], [5.8, 2.7, 5.1, 1.9], [7.1, 3.0, 5.9, 2.1]]}\n"
     ]
    }
   ],
   "source": [
    "## Type code here for the problem ##\n",
    "import numpy as np\n",
    "\n",
    "observation_dict = {}\n",
    "for index, name in enumerate(iris.target_names):\n",
    "    first_index = list(iris.target).index(index)\n",
    "\n",
    "    observation_dict[name.item()] = [iris.data[first_index].tolist(), iris.data[first_index+1].tolist()]\n",
    "\n",
    "print(\"Observation dictionary with first 2 entries\")\n",
    "print(observation_dict)\n",
    "\n",
    "print('-'*50)\n",
    "\n",
    "for index, name in enumerate(iris.target_names):\n",
    "    first_index = list(iris.target).index(index)\n",
    "\n",
    "    observation_dict[name.item()].append(iris.data[first_index+2].tolist())\n",
    "\n",
    "print(\"Observation dictionary with first 3 entries\")\n",
    "print(observation_dict)"
   ]
  },
  {
   "cell_type": "markdown",
   "metadata": {},
   "source": [
    "# (c) Tuple\n",
    "- Define a \"tuple\"\" as comprehensively and accurately as you would find in a dictionary. Provide a clear and concise explanation, covering its essential meaning, characteristics, and any relevant context.\n",
    "- Create a tuple in Python using the classes of Setosa, Versicolor and Virginica, allow elements ( start with 2 observations and 2 features per class) to be added\n",
    "- Show the output with a print statement\n",
    "- Add a third observation and a third feature of the Iris data set for each class\n",
    "- Show the output of your with a print statement"
   ]
  },
  {
   "cell_type": "markdown",
   "metadata": {},
   "source": [
    "## Definition\n",
    "\n",
    "An ordered, immutable sequence of elements. You cannot change the size or elements in a tuple once it is created. They also support sliding like with lists."
   ]
  },
  {
   "cell_type": "code",
   "execution_count": 5,
   "metadata": {},
   "outputs": [
    {
     "name": "stdout",
     "output_type": "stream",
     "text": [
      "setosa: ((5.1, 3.5), (4.9, 3.0))\n",
      "versicolor: ((7.0, 3.2), (6.4, 3.2))\n",
      "virginica: ((6.3, 3.3), (5.8, 2.7))\n",
      "--------------------------------------------------\n",
      "setosa 3 items: ((5.1, 3.5), (4.9, 3.0), (4.7, 3.2))\n",
      "versicolor 3 items: ((7.0, 3.2), (6.4, 3.2), (6.9, 3.1))\n",
      "virginica 3 items: ((6.3, 3.3), (5.8, 2.7), (7.1, 3.0))\n"
     ]
    }
   ],
   "source": [
    "## Type code for the problem here ##\n",
    "setosa_tuple = (tuple(observation_dict['setosa'][0][:2]), tuple(observation_dict['setosa'][1][:2]))\n",
    "print('setosa:', setosa_tuple)\n",
    "\n",
    "\n",
    "versicolor_tuple = (tuple(observation_dict['versicolor'][0][:2]), tuple(observation_dict['versicolor'][1][:2]))\n",
    "print('versicolor:', versicolor_tuple)\n",
    "\n",
    "virginica_tuple = (tuple(observation_dict['virginica'][0][:2]), tuple(observation_dict['virginica'][1][:2]))\n",
    "print('virginica:', virginica_tuple)\n",
    "\n",
    "print('-'*50)\n",
    "\n",
    "# Tuples are imutable so we need to conat tuples instead of modifying them with something like `append`, since that is not possible\n",
    "setosa_tuple = setosa_tuple + (tuple(observation_dict['setosa'][2][:2]),)\n",
    "print('setosa 3 items:', setosa_tuple)\n",
    "\n",
    "\n",
    "versicolor_tuple = versicolor_tuple + (tuple(observation_dict['versicolor'][2][:2]),)\n",
    "print('versicolor 3 items:', versicolor_tuple)\n",
    "\n",
    "virginica_tuple =  virginica_tuple + (tuple(observation_dict['virginica'][2][:2]),)\n",
    "print('virginica 3 items:', virginica_tuple)"
   ]
  },
  {
   "cell_type": "markdown",
   "metadata": {},
   "source": [
    "# (d) Set\n",
    "- Define a \"set\"\" as comprehensively and accurately as you would find in a dictionary. Provide a clear and concise explanation, covering its essential meaning, characteristics, and any relevant context.\n",
    "- Create a set (1st set) in Python using the first observation of the Setosa class allowing elements to be added\n",
    "- Show the output with a print statement\n",
    "- Create another set (2nd set) by adding the second observation of the Setosa class \n",
    "- Show the output of the following operations with the 1st set and 2nd set with a print statement\n",
    "    * Difference\n",
    "    * Intersection\n",
    "    * Union"
   ]
  },
  {
   "cell_type": "markdown",
   "metadata": {},
   "source": [
    "## Definition\n",
    "\n",
    "Sets are unorded, mutable collections of unique elements. Sets allow insertion and removal of items, but you cannot have duplicate items in a set."
   ]
  },
  {
   "cell_type": "code",
   "execution_count": 6,
   "metadata": {},
   "outputs": [
    {
     "name": "stdout",
     "output_type": "stream",
     "text": [
      "set 1 {0.2, 1.4, 3.5, 5.1}\n",
      "set 2 {0.2, 1.4, 3.0, 4.9}\n",
      "--------------------------------------------------\n",
      "difference: {3.5, 5.1}\n",
      "intersection: {0.2, 1.4}\n",
      "union: {0.2, 1.4, 3.5, 3.0, 5.1, 4.9}\n"
     ]
    }
   ],
   "source": [
    "## Type the code for the problem here ##\n",
    "setosa_set1 = set(observation_dict['setosa'][0])\n",
    "setosa_set2 = set(observation_dict['setosa'][1])\n",
    "print('set 1', setosa_set1)\n",
    "print('set 2', setosa_set2)\n",
    "\n",
    "print('-'*50)\n",
    "\n",
    "difference = setosa_set1.difference(setosa_set2)\n",
    "print('difference:', difference)\n",
    "\n",
    "intersection = setosa_set1.intersection(setosa_set2)\n",
    "print('intersection:', intersection)\n",
    "\n",
    "union = setosa_set1.union(setosa_set2)\n",
    "print('union:', union)"
   ]
  },
  {
   "cell_type": "markdown",
   "metadata": {},
   "source": [
    "# References\n",
    "[1] Thomas H. Cormen, Charles E. Leiserson, Ronald L. Rivest, and Clifford Stein. Introduction to\n",
    "Algorithms, Third Edition. MIT Press and McGraw-Hill, 2009. ISBN-13: 978-0-262-03384-8<br><br>\n",
    "[2] Thomas H. Cormen. The clrscode and clrscode3e packages for LaTeX2e, Retrived Jan 2010,\n",
    "http://www.cs.dartmouth.edu/ thc/clrscode/<br><br>\n",
    "[3] simpleilearn, Top 90+ Data Science Interview Questions and Answers: Basic to Technical,\n",
    "https://www.simplilearn.com/tutorials/data-science-tutorial/data-science-interview-questions<br><br>\n",
    "[4] simpleilearn, 22 Artificial Intelligence Interview Questions to Prepare,\n",
    "https://www.simplilearn.com/artificial-intelligence-ai-interview-questions-and-answers-article<br><br>\n",
    "[5] Python, Data Structures, https://docs.python.org/3/tutorial/datastructures.html"
   ]
  }
 ],
 "metadata": {
  "kernelspec": {
   "display_name": "Python (Algorithms-Kernel)",
   "language": "python",
   "name": "en-685-621"
  },
  "language_info": {
   "codemirror_mode": {
    "name": "ipython",
    "version": 3
   },
   "file_extension": ".py",
   "mimetype": "text/x-python",
   "name": "python",
   "nbconvert_exporter": "python",
   "pygments_lexer": "ipython3",
   "version": "3.9.22"
  }
 },
 "nbformat": 4,
 "nbformat_minor": 4
}
