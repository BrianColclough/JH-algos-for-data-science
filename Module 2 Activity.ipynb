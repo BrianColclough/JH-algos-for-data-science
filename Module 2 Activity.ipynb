{
 "cells": [
  {
   "cell_type": "markdown",
   "metadata": {},
   "source": [
    "# <h3 align=\"center\">__Module 2 Activity__</h3>\n",
    "# <h3 align=\"center\">__Assigned at the start of Module 2__</h3>\n",
    "# <h3 align=\"center\">__Due at the end of Module 2__</h3><br>\n",
    "\n"
   ]
  },
  {
   "cell_type": "markdown",
   "metadata": {},
   "source": [
    "# Weekly Discussion Forum Participation\n",
    "\n",
    "Each week, you are required to participate in the module’s discussion forum. The discussion forum consists of the week's Module Activity, which is released at the beginning of the module. You must complete/attempt the activity before you can post about the activity and anything that relates to the topic. \n",
    "\n",
    "## Grading of the Discussion\n",
    "\n",
    "### 1. Initial Post:\n",
    "Create your thread by **Day 5 (Saturday night at midnight, PST).**\n",
    "\n",
    "### 2. Responses:\n",
    "Respond to at least two other posts by **Day 7 (Monday night at midnight, PST).**\n",
    "\n",
    "---\n",
    "\n",
    "## Grading Criteria:\n",
    "\n",
    "Your participation will be graded as follows:\n",
    "\n",
    "### Full Credit (100 points):\n",
    "- Submit your initial post by **Day 5.**\n",
    "- Respond to at least two other posts by **Day 7.**\n",
    "\n",
    "### Half Credit (50 points):\n",
    "- If your initial post is late but you respond to two other posts.\n",
    "- If your initial post is on time but you fail to respond to at least two other posts.\n",
    "\n",
    "### No Credit (0 points):\n",
    "- If both your initial post and responses are late.\n",
    "- If you fail to submit an initial post and do not respond to any others.\n",
    "\n",
    "---\n",
    "\n",
    "## Additional Notes:\n",
    "\n",
    "- **Late Initial Posts:** Late posts will automatically receive half credit if two responses are completed on time.\n",
    "- **Substance Matters:** Responses must be thoughtful and constructive. Comments like “Great post!” or “I agree!” without further explanation will not earn credit.\n",
    "- **Balance Participation:** Aim to engage with threads that have fewer or no responses to ensure a balanced discussion.\n",
    "\n",
    "---\n",
    "\n",
    "## Avoid:\n",
    "- A number of posts within a very short time-frame, especially immediately prior to the posting deadline.\n",
    "- Posts that complement another post, and then consist of a summary of that.\n"
   ]
  },
  {
   "cell_type": "markdown",
   "metadata": {},
   "source": [
    "# __1. Module 2__<br>\n",
    "\n",
    "A covariance matrix is a square matrix that captures the pairwise covariance between multiple features in a dataset. Each element $C[i,j]$ represents the covariance between the $i$-th and $j$-th features. Diagonal elements represent variances of individual features.\n",
    "\n",
    "Why is it Important?\n",
    "\n",
    "* Multivariate Relationships: It helps understand how features move together (positive/negative correlation).\n",
    "* Dimensionality Reduction: It's the foundation of techniques like Principal Component Analysis (PCA).\n",
    "* Data Representation: Useful for understanding the structure of multivariate data in fields like finance, image processing, and machine learning."
   ]
  },
  {
   "cell_type": "markdown",
   "metadata": {},
   "source": [
    "## Covariance Equation\n",
    "\n",
    "The covariance between two variables $X_i$ and $X_j$ over $n$ observations is given by:\n",
    "\n",
    "$$C_{i,j} = \\frac{1}{n-1} \\sum_{k=1}^{n} (X_{ki} - \\mu_i)(X_{kj} - \\mu_j)$$\n",
    "\n",
    "where,\n",
    "*  $X_{ki}$  and $ X_{kj}$ are values of variables $X_i$ and $X_j$ for the $k$-th observation.\n",
    "*   $\\mu_i$  and  $\\mu_j$ are the means of $X_i$ and $X_j$, respectively.\n",
    "*   $n$ is the total number of observations.\n",
    "\n",
    "\n",
    "## Covariance Matrix Representation\n",
    "\n",
    "For a dataset with $d$ features, the covariance matrix $C$ is represented as:\n",
    "\n",
    "\\begin{bmatrix}\n",
    "C_{1,1} & C_{1,2} & C_{1,3} & \\dots  & C_{1,d} \\\\\n",
    "C_{2,1} & C_{2,2} & C_{2,3} & \\dots  & C_{2,d} \\\\\n",
    "C_{3,1} & C_{3,2} & C_{3,3} & \\dots  & C_{3,d} \\\\\n",
    "\\vdots  & \\vdots  & \\vdots  & \\ddots & \\vdots  \\\\\n",
    "C_{d,1} & C_{d,2} & C_{d,3} & \\dots  & C_{d,d} \\\\\n",
    "\\end{bmatrix}\n",
    "\n",
    "\n",
    "This represents a $ d \\times $ symmetric matrix, where each element $C_{i,j}$ is the covariance between the variables $X_i$ and $X_j$.\n",
    "\n"
   ]
  },
  {
   "cell_type": "markdown",
   "metadata": {},
   "source": [
    "### Without using any Python packages like `numpy` or `pandas`, write a function to calculate the covariance matrix for a given dataset. "
   ]
  },
  {
   "cell_type": "code",
   "execution_count": 2,
   "metadata": {},
   "outputs": [],
   "source": [
    "def compute_covariance_matrix(data):\n",
    "    \"\"\"\n",
    "    Compute the covariance matrix for a given dataset.\n",
    "    Input: data - A 2D list where each inner list is a variable (e.g., [[X], [Y]])\n",
    "    Output: Covariance matrix as a 2D list\n",
    "    \"\"\"\n",
    "\n",
    "    # Initialize variables\n",
    "    number_of_vars = len(data)\n",
    "    number_of_observations = len(data[0])\n",
    "    cov_matrix = [[0.0 for _ in range(number_of_vars)] for _ in range(number_of_vars)]\n",
    "    means = []\n",
    "    for var in data:\n",
    "        mean = sum(var) / len(var)\n",
    "        means.append(mean)\n",
    "    \n",
    "    for row_index in range(number_of_vars):\n",
    "        for column_index in range(number_of_vars):\n",
    "            # Calculate covariance for [row_index][column_index]\n",
    "            covariance = 0.0\n",
    "            for observation_index in range(number_of_observations):\n",
    "                # for each [row_index][column_index] use the observation index to and mean to calculate covariance\n",
    "                covariance += (data[row_index][observation_index] - means[row_index]) * (data[column_index][observation_index] - means[column_index])\n",
    "            \n",
    "            # divide by n-1 for covariance\n",
    "            cov_matrix[row_index][column_index] = covariance / (number_of_observations - 1)\n",
    "    \n",
    "    return cov_matrix"
   ]
  },
  {
   "cell_type": "markdown",
   "metadata": {},
   "source": [
    "### Use your new covariance matrix function to compute the covariance matrix of the first 5 rows of the iris dataset. "
   ]
  },
  {
   "cell_type": "code",
   "execution_count": 3,
   "metadata": {},
   "outputs": [
    {
     "name": "stdout",
     "output_type": "stream",
     "text": [
      "Data shape: (150, 4)\n",
      "Labels shape: (150,)\n",
      "First 5 rows of data:\n",
      " [[5.1 3.5 1.4 0.2]\n",
      " [4.9 3.  1.4 0.2]\n",
      " [4.7 3.2 1.3 0.2]\n",
      " [4.6 3.1 1.5 0.2]\n",
      " [5.  3.6 1.4 0.2]]\n",
      "First 5 labels: [0 0 0 0 0]\n",
      "Feature names: ['sepal length (cm)', 'sepal width (cm)', 'petal length (cm)', 'petal width (cm)']\n"
     ]
    }
   ],
   "source": [
    "from sklearn.datasets import load_iris\n",
    "import numpy as np\n",
    "\n",
    "# Load the Iris dataset\n",
    "iris = load_iris()\n",
    "\n",
    "# iris is a Bunch object, similar to a dictionary, containing data and metadata\n",
    "# The features (measurements) of the Iris dataset are stored in 'data'\n",
    "iris_data = iris.data\n",
    "\n",
    "# The labels (species of each instance) are stored in 'target'\n",
    "iris_labels = iris.target\n",
    "\n",
    "# The names of the features and labels are also stored\n",
    "feature_names = iris.feature_names\n",
    "label_names = iris.target_names\n",
    "\n",
    "# To see the shape of the dataset\n",
    "print(\"Data shape:\", iris_data.shape)  # e.g., (150, 4)\n",
    "print(\"Labels shape:\", iris_labels.shape)  # e.g., (150,)\n",
    "\n",
    "# If you want to see the first few entries\n",
    "print(\"First 5 rows of data:\\n\", iris_data[:5])\n",
    "print(\"First 5 labels:\", iris_labels[:5])\n",
    "print(\"Feature names:\", iris.feature_names)\n",
    "\n"
   ]
  },
  {
   "cell_type": "code",
   "execution_count": 4,
   "metadata": {},
   "outputs": [
    {
     "name": "stdout",
     "output_type": "stream",
     "text": [
      "Standard Deviation of sepal length (cm): 0.2073644135332772\n",
      "Standard Deviation of sepal width (cm): 0.2588435821108957\n",
      "Standard Deviation of petal length (cm): 0.07071067811865474\n",
      "Standard Deviation of petal width (cm): 0.0\n",
      "Covariance Matrix:\n"
     ]
    },
    {
     "data": {
      "text/html": [
       "<div>\n",
       "<style scoped>\n",
       "    .dataframe tbody tr th:only-of-type {\n",
       "        vertical-align: middle;\n",
       "    }\n",
       "\n",
       "    .dataframe tbody tr th {\n",
       "        vertical-align: top;\n",
       "    }\n",
       "\n",
       "    .dataframe thead th {\n",
       "        text-align: right;\n",
       "    }\n",
       "</style>\n",
       "<table border=\"1\" class=\"dataframe\">\n",
       "  <thead>\n",
       "    <tr style=\"text-align: right;\">\n",
       "      <th></th>\n",
       "      <th>sepal length (cm)</th>\n",
       "      <th>sepal width (cm)</th>\n",
       "      <th>petal length (cm)</th>\n",
       "      <th>petal width (cm)</th>\n",
       "    </tr>\n",
       "  </thead>\n",
       "  <tbody>\n",
       "    <tr>\n",
       "      <th>sepal length (cm)</th>\n",
       "      <td>0.0430</td>\n",
       "      <td>0.0365</td>\n",
       "      <td>-0.0025</td>\n",
       "      <td>0.0</td>\n",
       "    </tr>\n",
       "    <tr>\n",
       "      <th>sepal width (cm)</th>\n",
       "      <td>0.0365</td>\n",
       "      <td>0.0670</td>\n",
       "      <td>-0.0025</td>\n",
       "      <td>0.0</td>\n",
       "    </tr>\n",
       "    <tr>\n",
       "      <th>petal length (cm)</th>\n",
       "      <td>-0.0025</td>\n",
       "      <td>-0.0025</td>\n",
       "      <td>0.0050</td>\n",
       "      <td>0.0</td>\n",
       "    </tr>\n",
       "    <tr>\n",
       "      <th>petal width (cm)</th>\n",
       "      <td>0.0000</td>\n",
       "      <td>0.0000</td>\n",
       "      <td>0.0000</td>\n",
       "      <td>0.0</td>\n",
       "    </tr>\n",
       "  </tbody>\n",
       "</table>\n",
       "</div>"
      ],
      "text/plain": [
       "                   sepal length (cm)  sepal width (cm)  petal length (cm)  \\\n",
       "sepal length (cm)             0.0430            0.0365            -0.0025   \n",
       "sepal width (cm)              0.0365            0.0670            -0.0025   \n",
       "petal length (cm)            -0.0025           -0.0025             0.0050   \n",
       "petal width (cm)              0.0000            0.0000             0.0000   \n",
       "\n",
       "                   petal width (cm)  \n",
       "sepal length (cm)               0.0  \n",
       "sepal width (cm)                0.0  \n",
       "petal length (cm)               0.0  \n",
       "petal width (cm)                0.0  "
      ]
     },
     "execution_count": 4,
     "metadata": {},
     "output_type": "execute_result"
    }
   ],
   "source": [
    "import matplotlib.pyplot as plt\n",
    "import pandas as pd\n",
    "\n",
    "columns = iris_data[:5].T.tolist()\n",
    "cov_matrix = compute_covariance_matrix(columns)\n",
    "\n",
    "standard_deviation_first_feature = np.sqrt(cov_matrix[0][0])\n",
    "standard_deviation_second_feature = np.sqrt(cov_matrix[1][1])\n",
    "standard_deviation_third_feature = np.sqrt(cov_matrix[2][2])\n",
    "standard_deviation_fourth_feature = np.sqrt(cov_matrix[3][3])\n",
    "print(f\"Standard Deviation of {iris.feature_names[0]}: {standard_deviation_first_feature}\")\n",
    "print(f\"Standard Deviation of {iris.feature_names[1]}: {standard_deviation_second_feature}\")\n",
    "print(f\"Standard Deviation of {iris.feature_names[2]}: {standard_deviation_third_feature}\")\n",
    "print(f\"Standard Deviation of {iris.feature_names[3]}: {standard_deviation_fourth_feature}\")\n",
    "\n",
    "print(\"Covariance Matrix:\")\n",
    "covariance_data_frame = pd.DataFrame(cov_matrix, index=feature_names, columns=feature_names)\n",
    "\n",
    "covariance_data_frame.head()"
   ]
  },
  {
   "cell_type": "markdown",
   "metadata": {},
   "source": [
    "## Relationships\n",
    "\n",
    "One thing that is obvious is that the last row and col of our covariance matrix is all zeros, we can see that this should be the case by noticing that all the values of petal width (fourth feature) are all equal, meaning that there is no difference between them, in other words, no variance or covariance.\n",
    "\n",
    "Looking at our variances we can see that our features are all tightly clusted around their means as there variance is low for all our features. The positive covariance between sepal length and sepal width(0.0365) suggests that they are both increasing together, while petal length has negative covariances with sepal length and sepal width(-0.0025). A negative covariance means one the these features is diverging, one is increasing while another is decreasing. This number is low though so there is a weak correlation here.\n"
   ]
  },
  {
   "cell_type": "markdown",
   "metadata": {},
   "source": [
    "### "
   ]
  },
  {
   "cell_type": "markdown",
   "metadata": {},
   "source": [
    "### Plot data points for 2 of the features in the dataset and show how the covariance matrix reflects the orientation and spread of data."
   ]
  },
  {
   "cell_type": "code",
   "execution_count": 5,
   "metadata": {},
   "outputs": [
    {
     "data": {
      "image/png": "[encoded data removed]",
      "text/plain": [
       "<Figure size 640x480 with 1 Axes>"
      ]
     },
     "metadata": {},
     "output_type": "display_data"
    },
    {
     "name": "stdout",
     "output_type": "stream",
     "text": [
      "Standard Deviation of sepal length (cm): 0.8280661279778629\n",
      "Standard Deviation of sepal width (cm): 0.435866284936698\n",
      "corelation from covaraince -0.04243400447427291 is -0.11756978413300208\n",
      "Covariance Matrix:\n"
     ]
    },
    {
     "data": {
      "text/html": [
       "<div>\n",
       "<style scoped>\n",
       "    .dataframe tbody tr th:only-of-type {\n",
       "        vertical-align: middle;\n",
       "    }\n",
       "\n",
       "    .dataframe tbody tr th {\n",
       "        vertical-align: top;\n",
       "    }\n",
       "\n",
       "    .dataframe thead th {\n",
       "        text-align: right;\n",
       "    }\n",
       "</style>\n",
       "<table border=\"1\" class=\"dataframe\">\n",
       "  <thead>\n",
       "    <tr style=\"text-align: right;\">\n",
       "      <th></th>\n",
       "      <th>sepal length (cm)</th>\n",
       "      <th>sepal width (cm)</th>\n",
       "    </tr>\n",
       "  </thead>\n",
       "  <tbody>\n",
       "    <tr>\n",
       "      <th>sepal length (cm)</th>\n",
       "      <td>0.685694</td>\n",
       "      <td>-0.042434</td>\n",
       "    </tr>\n",
       "    <tr>\n",
       "      <th>sepal width (cm)</th>\n",
       "      <td>-0.042434</td>\n",
       "      <td>0.189979</td>\n",
       "    </tr>\n",
       "  </tbody>\n",
       "</table>\n",
       "</div>"
      ],
      "text/plain": [
       "                   sepal length (cm)  sepal width (cm)\n",
       "sepal length (cm)           0.685694         -0.042434\n",
       "sepal width (cm)           -0.042434          0.189979"
      ]
     },
     "execution_count": 5,
     "metadata": {},
     "output_type": "execute_result"
    }
   ],
   "source": [
    "# Create plots here\n",
    "# get first 2 colums of iris data\n",
    "iris_data_first_feature = iris_data[:, 0]\n",
    "iris_data_second_feature = iris_data[:, 1]\n",
    "\n",
    "covariance_matrix = compute_covariance_matrix([iris_data_first_feature, iris_data_second_feature])\n",
    "\n",
    "covariance_data_frame = pd.DataFrame(covariance_matrix, index=feature_names[:2], columns=feature_names[:2])\n",
    "\n",
    "standard_deviation_first_feature = np.sqrt(covariance_matrix[0][0])\n",
    "standard_deviation_second_feature = np.sqrt(covariance_matrix[1][1])\n",
    "\n",
    "# plot the data\n",
    "plt.scatter(iris_data_first_feature, iris_data_second_feature, alpha=0.6, s=35)\n",
    "plt.xlabel(iris.feature_names[0])\n",
    "plt.ylabel(iris.feature_names[1])\n",
    "plt.title(\"Scatter Plot of First two features of Iris Dataset\")\n",
    "\n",
    "# plot the point of the mean \n",
    "mean_first_feature = np.mean(iris_data_first_feature)\n",
    "mean_second_feature = np.mean(iris_data_second_feature)\n",
    "\n",
    "# plot principal directions using eigen vectors\n",
    "eigen_values, eigen_vectors = np.linalg.eig(covariance_matrix)\n",
    "# plot the eigen vectors\n",
    "plt.quiver(mean_first_feature, mean_second_feature, eigen_vectors[0][0] * np.sqrt(eigen_values[0]), eigen_vectors[1][0] * np.sqrt(eigen_values[0]), color='blue', angles='xy', scale_units='xy', scale=1)\n",
    "plt.quiver(mean_first_feature, mean_second_feature, -eigen_vectors[0][0] * np.sqrt(eigen_values[0]), -eigen_vectors[1][0] * np.sqrt(eigen_values[0]), color='blue', angles='xy', scale_units='xy', scale=1)\n",
    "plt.quiver(mean_first_feature, mean_second_feature, eigen_vectors[0][1] * np.sqrt(eigen_values[1]), eigen_vectors[1][1] * np.sqrt(eigen_values[1]), color='green', angles='xy', scale_units='xy', scale=1)\n",
    "plt.quiver(mean_first_feature, mean_second_feature, -eigen_vectors[0][1] * np.sqrt(eigen_values[1]), -eigen_vectors[1][1] * np.sqrt(eigen_values[1]), color='green', angles='xy', scale_units='xy', scale=1)\n",
    "plt.scatter(mean_first_feature, mean_second_feature, color='red', marker='x', s=100)\n",
    "\n",
    "\n",
    "plt.show()\n",
    "print(f\"Standard Deviation of {iris.feature_names[0]}: {standard_deviation_first_feature}\")\n",
    "print(f\"Standard Deviation of {iris.feature_names[1]}: {standard_deviation_second_feature}\")\n",
    "\n",
    "# coorelation of covariance()\n",
    "corelation = covariance_matrix[0][1] / (standard_deviation_first_feature * standard_deviation_second_feature)\n",
    "print(f\"corelation from covaraince {covariance_matrix[0][1]} is {corelation}\")\n",
    "\n",
    "\n",
    "print(\"Covariance Matrix:\")\n",
    "covariance_data_frame.head()\n",
    "\n"
   ]
  },
  {
   "cell_type": "markdown",
   "metadata": {},
   "source": [
    "We can see from our covariance matrix that the standard deviations for our x axis (sepal length) is roughtly double the standard deviation of our y axis. This is reflected in our graph as we can see that the sepal width is less \"spread out\" than our sepial length by roughly half. The -0.042434 covariance means that as sepal length increases sepal width tends to decrease, with a weak correlation. "
   ]
  },
  {
   "cell_type": "markdown",
   "metadata": {},
   "source": [
    "# References\n",
    "[1] Thomas H. Cormen, Charles E. Leiserson, Ronald L. Rivest, and Clifford Stein. Introduction to\n",
    "Algorithms, Third Edition. MIT Press and McGraw-Hill, 2009. ISBN-13: 978-0-262-03384-8<br><br>"
   ]
  }
 ],
 "metadata": {
  "kernelspec": {
   "display_name": "en-685-621",
   "language": "python",
   "name": "python3"
  },
  "language_info": {
   "codemirror_mode": {
    "name": "ipython",
    "version": 3
   },
   "file_extension": ".py",
   "mimetype": "text/x-python",
   "name": "python",
   "nbconvert_exporter": "python",
   "pygments_lexer": "ipython3",
   "version": "undefined.undefined.undefined"
  }
 },
 "nbformat": 4,
 "nbformat_minor": 4
}
